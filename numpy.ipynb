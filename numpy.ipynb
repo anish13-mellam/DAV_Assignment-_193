{
  "nbformat": 4,
  "nbformat_minor": 0,
  "metadata": {
    "colab": {
      "provenance": [],
      "authorship_tag": "ABX9TyPpfYD4dhb12l9OWfyj1+NL",
      "include_colab_link": true
    },
    "kernelspec": {
      "name": "python3",
      "display_name": "Python 3"
    },
    "language_info": {
      "name": "python"
    }
  },
  "cells": [
    {
      "cell_type": "markdown",
      "metadata": {
        "id": "view-in-github",
        "colab_type": "text"
      },
      "source": [
        "<a href=\"https://colab.research.google.com/github/anish13-mellam/DAV_Assignment-_193/blob/main/numpy.ipynb\" target=\"_parent\"><img src=\"https://colab.research.google.com/assets/colab-badge.svg\" alt=\"Open In Colab\"/></a>"
      ]
    },
    {
      "cell_type": "code",
      "execution_count": 6,
      "metadata": {
        "colab": {
          "base_uri": "https://localhost:8080/",
          "height": 73
        },
        "id": "yd2oS4X5gyCl",
        "outputId": "886b57c7-ef8f-4ebe-bc9d-06de6c4059c0"
      },
      "outputs": [
        {
          "output_type": "display_data",
          "data": {
            "text/plain": [
              "<IPython.core.display.HTML object>"
            ],
            "text/html": [
              "\n",
              "     <input type=\"file\" id=\"files-cf571866-b30b-45fc-afe3-714cbd350487\" name=\"files[]\" multiple disabled\n",
              "        style=\"border:none\" />\n",
              "     <output id=\"result-cf571866-b30b-45fc-afe3-714cbd350487\">\n",
              "      Upload widget is only available when the cell has been executed in the\n",
              "      current browser session. Please rerun this cell to enable.\n",
              "      </output>\n",
              "      <script>// Copyright 2017 Google LLC\n",
              "//\n",
              "// Licensed under the Apache License, Version 2.0 (the \"License\");\n",
              "// you may not use this file except in compliance with the License.\n",
              "// You may obtain a copy of the License at\n",
              "//\n",
              "//      http://www.apache.org/licenses/LICENSE-2.0\n",
              "//\n",
              "// Unless required by applicable law or agreed to in writing, software\n",
              "// distributed under the License is distributed on an \"AS IS\" BASIS,\n",
              "// WITHOUT WARRANTIES OR CONDITIONS OF ANY KIND, either express or implied.\n",
              "// See the License for the specific language governing permissions and\n",
              "// limitations under the License.\n",
              "\n",
              "/**\n",
              " * @fileoverview Helpers for google.colab Python module.\n",
              " */\n",
              "(function(scope) {\n",
              "function span(text, styleAttributes = {}) {\n",
              "  const element = document.createElement('span');\n",
              "  element.textContent = text;\n",
              "  for (const key of Object.keys(styleAttributes)) {\n",
              "    element.style[key] = styleAttributes[key];\n",
              "  }\n",
              "  return element;\n",
              "}\n",
              "\n",
              "// Max number of bytes which will be uploaded at a time.\n",
              "const MAX_PAYLOAD_SIZE = 100 * 1024;\n",
              "\n",
              "function _uploadFiles(inputId, outputId) {\n",
              "  const steps = uploadFilesStep(inputId, outputId);\n",
              "  const outputElement = document.getElementById(outputId);\n",
              "  // Cache steps on the outputElement to make it available for the next call\n",
              "  // to uploadFilesContinue from Python.\n",
              "  outputElement.steps = steps;\n",
              "\n",
              "  return _uploadFilesContinue(outputId);\n",
              "}\n",
              "\n",
              "// This is roughly an async generator (not supported in the browser yet),\n",
              "// where there are multiple asynchronous steps and the Python side is going\n",
              "// to poll for completion of each step.\n",
              "// This uses a Promise to block the python side on completion of each step,\n",
              "// then passes the result of the previous step as the input to the next step.\n",
              "function _uploadFilesContinue(outputId) {\n",
              "  const outputElement = document.getElementById(outputId);\n",
              "  const steps = outputElement.steps;\n",
              "\n",
              "  const next = steps.next(outputElement.lastPromiseValue);\n",
              "  return Promise.resolve(next.value.promise).then((value) => {\n",
              "    // Cache the last promise value to make it available to the next\n",
              "    // step of the generator.\n",
              "    outputElement.lastPromiseValue = value;\n",
              "    return next.value.response;\n",
              "  });\n",
              "}\n",
              "\n",
              "/**\n",
              " * Generator function which is called between each async step of the upload\n",
              " * process.\n",
              " * @param {string} inputId Element ID of the input file picker element.\n",
              " * @param {string} outputId Element ID of the output display.\n",
              " * @return {!Iterable<!Object>} Iterable of next steps.\n",
              " */\n",
              "function* uploadFilesStep(inputId, outputId) {\n",
              "  const inputElement = document.getElementById(inputId);\n",
              "  inputElement.disabled = false;\n",
              "\n",
              "  const outputElement = document.getElementById(outputId);\n",
              "  outputElement.innerHTML = '';\n",
              "\n",
              "  const pickedPromise = new Promise((resolve) => {\n",
              "    inputElement.addEventListener('change', (e) => {\n",
              "      resolve(e.target.files);\n",
              "    });\n",
              "  });\n",
              "\n",
              "  const cancel = document.createElement('button');\n",
              "  inputElement.parentElement.appendChild(cancel);\n",
              "  cancel.textContent = 'Cancel upload';\n",
              "  const cancelPromise = new Promise((resolve) => {\n",
              "    cancel.onclick = () => {\n",
              "      resolve(null);\n",
              "    };\n",
              "  });\n",
              "\n",
              "  // Wait for the user to pick the files.\n",
              "  const files = yield {\n",
              "    promise: Promise.race([pickedPromise, cancelPromise]),\n",
              "    response: {\n",
              "      action: 'starting',\n",
              "    }\n",
              "  };\n",
              "\n",
              "  cancel.remove();\n",
              "\n",
              "  // Disable the input element since further picks are not allowed.\n",
              "  inputElement.disabled = true;\n",
              "\n",
              "  if (!files) {\n",
              "    return {\n",
              "      response: {\n",
              "        action: 'complete',\n",
              "      }\n",
              "    };\n",
              "  }\n",
              "\n",
              "  for (const file of files) {\n",
              "    const li = document.createElement('li');\n",
              "    li.append(span(file.name, {fontWeight: 'bold'}));\n",
              "    li.append(span(\n",
              "        `(${file.type || 'n/a'}) - ${file.size} bytes, ` +\n",
              "        `last modified: ${\n",
              "            file.lastModifiedDate ? file.lastModifiedDate.toLocaleDateString() :\n",
              "                                    'n/a'} - `));\n",
              "    const percent = span('0% done');\n",
              "    li.appendChild(percent);\n",
              "\n",
              "    outputElement.appendChild(li);\n",
              "\n",
              "    const fileDataPromise = new Promise((resolve) => {\n",
              "      const reader = new FileReader();\n",
              "      reader.onload = (e) => {\n",
              "        resolve(e.target.result);\n",
              "      };\n",
              "      reader.readAsArrayBuffer(file);\n",
              "    });\n",
              "    // Wait for the data to be ready.\n",
              "    let fileData = yield {\n",
              "      promise: fileDataPromise,\n",
              "      response: {\n",
              "        action: 'continue',\n",
              "      }\n",
              "    };\n",
              "\n",
              "    // Use a chunked sending to avoid message size limits. See b/62115660.\n",
              "    let position = 0;\n",
              "    do {\n",
              "      const length = Math.min(fileData.byteLength - position, MAX_PAYLOAD_SIZE);\n",
              "      const chunk = new Uint8Array(fileData, position, length);\n",
              "      position += length;\n",
              "\n",
              "      const base64 = btoa(String.fromCharCode.apply(null, chunk));\n",
              "      yield {\n",
              "        response: {\n",
              "          action: 'append',\n",
              "          file: file.name,\n",
              "          data: base64,\n",
              "        },\n",
              "      };\n",
              "\n",
              "      let percentDone = fileData.byteLength === 0 ?\n",
              "          100 :\n",
              "          Math.round((position / fileData.byteLength) * 100);\n",
              "      percent.textContent = `${percentDone}% done`;\n",
              "\n",
              "    } while (position < fileData.byteLength);\n",
              "  }\n",
              "\n",
              "  // All done.\n",
              "  yield {\n",
              "    response: {\n",
              "      action: 'complete',\n",
              "    }\n",
              "  };\n",
              "}\n",
              "\n",
              "scope.google = scope.google || {};\n",
              "scope.google.colab = scope.google.colab || {};\n",
              "scope.google.colab._files = {\n",
              "  _uploadFiles,\n",
              "  _uploadFilesContinue,\n",
              "};\n",
              "})(self);\n",
              "</script> "
            ]
          },
          "metadata": {}
        },
        {
          "output_type": "stream",
          "name": "stdout",
          "text": [
            "Saving deepseek_vs_chatgpt.csv to deepseek_vs_chatgpt.csv\n"
          ]
        }
      ],
      "source": [
        "from google.colab import files\n",
        "uploaded = files.upload()\n"
      ]
    },
    {
      "cell_type": "code",
      "source": [
        "import pandas as pd\n",
        "\n",
        "df = pd.read_csv('deepseek_vs_chatgpt.csv')  # Use the correct file name\n",
        "df.head()  # Optional: preview the data\n"
      ],
      "metadata": {
        "colab": {
          "base_uri": "https://localhost:8080/",
          "height": 394
        },
        "id": "F9UugS0viKwA",
        "outputId": "e5c3bc96-6969-436f-bc7a-1758f8f16f52"
      },
      "execution_count": 7,
      "outputs": [
        {
          "output_type": "execute_result",
          "data": {
            "text/plain": [
              "         Date  Month_Num   Weekday AI_Platform   AI_Model_Version  \\\n",
              "0  2024-09-21          9  Saturday     ChatGPT        GPT-4-turbo   \n",
              "1  2024-09-21          9  Saturday     ChatGPT        GPT-4-turbo   \n",
              "2  2024-09-21          9  Saturday     ChatGPT        GPT-4-turbo   \n",
              "3  2024-09-21          9  Saturday     ChatGPT        GPT-4-turbo   \n",
              "4  2024-05-16          5  Thursday    DeepSeek  DeepSeek-Chat 1.5   \n",
              "\n",
              "   Active_Users  New_Users  Churned_Users  Daily_Churn_Rate  Retention_Rate  \\\n",
              "0        500000      25000          25000              0.05            0.95   \n",
              "1        500000      25000          25000              0.05            0.95   \n",
              "2        500000      25000          25000              0.05            0.95   \n",
              "3        500000      25000          25000              0.05            0.95   \n",
              "4       1700000     170000          34000              0.02            0.95   \n",
              "\n",
              "   ... Session_Duration_sec     Device_Type Language  Response_Accuracy  \\\n",
              "0  ...                   40          Mobile       es             0.7842   \n",
              "1  ...                   24  Laptop/Desktop       zh             0.8194   \n",
              "2  ...                   34          Mobile       en             0.8090   \n",
              "3  ...                   18          Mobile       fr             0.8233   \n",
              "4  ...                   10          Mobile       de             0.9366   \n",
              "\n",
              "   Response_Speed_sec Response_Time_Category  Correction_Needed  \\\n",
              "0                3.30               Standard                  0   \n",
              "1                3.28               Standard                  1   \n",
              "2                3.07               Standard                  0   \n",
              "3                3.06               Standard                  0   \n",
              "4                1.48                   Fast                  0   \n",
              "\n",
              "   User_Return_Frequency  Customer_Support_Interactions  \\\n",
              "0                      6                              2   \n",
              "1                      2                              2   \n",
              "2                      2                              0   \n",
              "3                      9                              0   \n",
              "4                      9                              3   \n",
              "\n",
              "                                         Region  \n",
              "0  Antarctica (the territory South of 60 deg S)  \n",
              "1                                       Ukraine  \n",
              "2                                       Grenada  \n",
              "3                                        Guyana  \n",
              "4                                         India  \n",
              "\n",
              "[5 rows x 28 columns]"
            ],
            "text/html": [
              "\n",
              "  <div id=\"df-092ec593-c78e-420c-814d-22d6075ccd32\" class=\"colab-df-container\">\n",
              "    <div>\n",
              "<style scoped>\n",
              "    .dataframe tbody tr th:only-of-type {\n",
              "        vertical-align: middle;\n",
              "    }\n",
              "\n",
              "    .dataframe tbody tr th {\n",
              "        vertical-align: top;\n",
              "    }\n",
              "\n",
              "    .dataframe thead th {\n",
              "        text-align: right;\n",
              "    }\n",
              "</style>\n",
              "<table border=\"1\" class=\"dataframe\">\n",
              "  <thead>\n",
              "    <tr style=\"text-align: right;\">\n",
              "      <th></th>\n",
              "      <th>Date</th>\n",
              "      <th>Month_Num</th>\n",
              "      <th>Weekday</th>\n",
              "      <th>AI_Platform</th>\n",
              "      <th>AI_Model_Version</th>\n",
              "      <th>Active_Users</th>\n",
              "      <th>New_Users</th>\n",
              "      <th>Churned_Users</th>\n",
              "      <th>Daily_Churn_Rate</th>\n",
              "      <th>Retention_Rate</th>\n",
              "      <th>...</th>\n",
              "      <th>Session_Duration_sec</th>\n",
              "      <th>Device_Type</th>\n",
              "      <th>Language</th>\n",
              "      <th>Response_Accuracy</th>\n",
              "      <th>Response_Speed_sec</th>\n",
              "      <th>Response_Time_Category</th>\n",
              "      <th>Correction_Needed</th>\n",
              "      <th>User_Return_Frequency</th>\n",
              "      <th>Customer_Support_Interactions</th>\n",
              "      <th>Region</th>\n",
              "    </tr>\n",
              "  </thead>\n",
              "  <tbody>\n",
              "    <tr>\n",
              "      <th>0</th>\n",
              "      <td>2024-09-21</td>\n",
              "      <td>9</td>\n",
              "      <td>Saturday</td>\n",
              "      <td>ChatGPT</td>\n",
              "      <td>GPT-4-turbo</td>\n",
              "      <td>500000</td>\n",
              "      <td>25000</td>\n",
              "      <td>25000</td>\n",
              "      <td>0.05</td>\n",
              "      <td>0.95</td>\n",
              "      <td>...</td>\n",
              "      <td>40</td>\n",
              "      <td>Mobile</td>\n",
              "      <td>es</td>\n",
              "      <td>0.7842</td>\n",
              "      <td>3.30</td>\n",
              "      <td>Standard</td>\n",
              "      <td>0</td>\n",
              "      <td>6</td>\n",
              "      <td>2</td>\n",
              "      <td>Antarctica (the territory South of 60 deg S)</td>\n",
              "    </tr>\n",
              "    <tr>\n",
              "      <th>1</th>\n",
              "      <td>2024-09-21</td>\n",
              "      <td>9</td>\n",
              "      <td>Saturday</td>\n",
              "      <td>ChatGPT</td>\n",
              "      <td>GPT-4-turbo</td>\n",
              "      <td>500000</td>\n",
              "      <td>25000</td>\n",
              "      <td>25000</td>\n",
              "      <td>0.05</td>\n",
              "      <td>0.95</td>\n",
              "      <td>...</td>\n",
              "      <td>24</td>\n",
              "      <td>Laptop/Desktop</td>\n",
              "      <td>zh</td>\n",
              "      <td>0.8194</td>\n",
              "      <td>3.28</td>\n",
              "      <td>Standard</td>\n",
              "      <td>1</td>\n",
              "      <td>2</td>\n",
              "      <td>2</td>\n",
              "      <td>Ukraine</td>\n",
              "    </tr>\n",
              "    <tr>\n",
              "      <th>2</th>\n",
              "      <td>2024-09-21</td>\n",
              "      <td>9</td>\n",
              "      <td>Saturday</td>\n",
              "      <td>ChatGPT</td>\n",
              "      <td>GPT-4-turbo</td>\n",
              "      <td>500000</td>\n",
              "      <td>25000</td>\n",
              "      <td>25000</td>\n",
              "      <td>0.05</td>\n",
              "      <td>0.95</td>\n",
              "      <td>...</td>\n",
              "      <td>34</td>\n",
              "      <td>Mobile</td>\n",
              "      <td>en</td>\n",
              "      <td>0.8090</td>\n",
              "      <td>3.07</td>\n",
              "      <td>Standard</td>\n",
              "      <td>0</td>\n",
              "      <td>2</td>\n",
              "      <td>0</td>\n",
              "      <td>Grenada</td>\n",
              "    </tr>\n",
              "    <tr>\n",
              "      <th>3</th>\n",
              "      <td>2024-09-21</td>\n",
              "      <td>9</td>\n",
              "      <td>Saturday</td>\n",
              "      <td>ChatGPT</td>\n",
              "      <td>GPT-4-turbo</td>\n",
              "      <td>500000</td>\n",
              "      <td>25000</td>\n",
              "      <td>25000</td>\n",
              "      <td>0.05</td>\n",
              "      <td>0.95</td>\n",
              "      <td>...</td>\n",
              "      <td>18</td>\n",
              "      <td>Mobile</td>\n",
              "      <td>fr</td>\n",
              "      <td>0.8233</td>\n",
              "      <td>3.06</td>\n",
              "      <td>Standard</td>\n",
              "      <td>0</td>\n",
              "      <td>9</td>\n",
              "      <td>0</td>\n",
              "      <td>Guyana</td>\n",
              "    </tr>\n",
              "    <tr>\n",
              "      <th>4</th>\n",
              "      <td>2024-05-16</td>\n",
              "      <td>5</td>\n",
              "      <td>Thursday</td>\n",
              "      <td>DeepSeek</td>\n",
              "      <td>DeepSeek-Chat 1.5</td>\n",
              "      <td>1700000</td>\n",
              "      <td>170000</td>\n",
              "      <td>34000</td>\n",
              "      <td>0.02</td>\n",
              "      <td>0.95</td>\n",
              "      <td>...</td>\n",
              "      <td>10</td>\n",
              "      <td>Mobile</td>\n",
              "      <td>de</td>\n",
              "      <td>0.9366</td>\n",
              "      <td>1.48</td>\n",
              "      <td>Fast</td>\n",
              "      <td>0</td>\n",
              "      <td>9</td>\n",
              "      <td>3</td>\n",
              "      <td>India</td>\n",
              "    </tr>\n",
              "  </tbody>\n",
              "</table>\n",
              "<p>5 rows × 28 columns</p>\n",
              "</div>\n",
              "    <div class=\"colab-df-buttons\">\n",
              "\n",
              "  <div class=\"colab-df-container\">\n",
              "    <button class=\"colab-df-convert\" onclick=\"convertToInteractive('df-092ec593-c78e-420c-814d-22d6075ccd32')\"\n",
              "            title=\"Convert this dataframe to an interactive table.\"\n",
              "            style=\"display:none;\">\n",
              "\n",
              "  <svg xmlns=\"http://www.w3.org/2000/svg\" height=\"24px\" viewBox=\"0 -960 960 960\">\n",
              "    <path d=\"M120-120v-720h720v720H120Zm60-500h600v-160H180v160Zm220 220h160v-160H400v160Zm0 220h160v-160H400v160ZM180-400h160v-160H180v160Zm440 0h160v-160H620v160ZM180-180h160v-160H180v160Zm440 0h160v-160H620v160Z\"/>\n",
              "  </svg>\n",
              "    </button>\n",
              "\n",
              "  <style>\n",
              "    .colab-df-container {\n",
              "      display:flex;\n",
              "      gap: 12px;\n",
              "    }\n",
              "\n",
              "    .colab-df-convert {\n",
              "      background-color: #E8F0FE;\n",
              "      border: none;\n",
              "      border-radius: 50%;\n",
              "      cursor: pointer;\n",
              "      display: none;\n",
              "      fill: #1967D2;\n",
              "      height: 32px;\n",
              "      padding: 0 0 0 0;\n",
              "      width: 32px;\n",
              "    }\n",
              "\n",
              "    .colab-df-convert:hover {\n",
              "      background-color: #E2EBFA;\n",
              "      box-shadow: 0px 1px 2px rgba(60, 64, 67, 0.3), 0px 1px 3px 1px rgba(60, 64, 67, 0.15);\n",
              "      fill: #174EA6;\n",
              "    }\n",
              "\n",
              "    .colab-df-buttons div {\n",
              "      margin-bottom: 4px;\n",
              "    }\n",
              "\n",
              "    [theme=dark] .colab-df-convert {\n",
              "      background-color: #3B4455;\n",
              "      fill: #D2E3FC;\n",
              "    }\n",
              "\n",
              "    [theme=dark] .colab-df-convert:hover {\n",
              "      background-color: #434B5C;\n",
              "      box-shadow: 0px 1px 3px 1px rgba(0, 0, 0, 0.15);\n",
              "      filter: drop-shadow(0px 1px 2px rgba(0, 0, 0, 0.3));\n",
              "      fill: #FFFFFF;\n",
              "    }\n",
              "  </style>\n",
              "\n",
              "    <script>\n",
              "      const buttonEl =\n",
              "        document.querySelector('#df-092ec593-c78e-420c-814d-22d6075ccd32 button.colab-df-convert');\n",
              "      buttonEl.style.display =\n",
              "        google.colab.kernel.accessAllowed ? 'block' : 'none';\n",
              "\n",
              "      async function convertToInteractive(key) {\n",
              "        const element = document.querySelector('#df-092ec593-c78e-420c-814d-22d6075ccd32');\n",
              "        const dataTable =\n",
              "          await google.colab.kernel.invokeFunction('convertToInteractive',\n",
              "                                                    [key], {});\n",
              "        if (!dataTable) return;\n",
              "\n",
              "        const docLinkHtml = 'Like what you see? Visit the ' +\n",
              "          '<a target=\"_blank\" href=https://colab.research.google.com/notebooks/data_table.ipynb>data table notebook</a>'\n",
              "          + ' to learn more about interactive tables.';\n",
              "        element.innerHTML = '';\n",
              "        dataTable['output_type'] = 'display_data';\n",
              "        await google.colab.output.renderOutput(dataTable, element);\n",
              "        const docLink = document.createElement('div');\n",
              "        docLink.innerHTML = docLinkHtml;\n",
              "        element.appendChild(docLink);\n",
              "      }\n",
              "    </script>\n",
              "  </div>\n",
              "\n",
              "\n",
              "<div id=\"df-9e0b1332-a506-43d9-b67c-5086f8d41a80\">\n",
              "  <button class=\"colab-df-quickchart\" onclick=\"quickchart('df-9e0b1332-a506-43d9-b67c-5086f8d41a80')\"\n",
              "            title=\"Suggest charts\"\n",
              "            style=\"display:none;\">\n",
              "\n",
              "<svg xmlns=\"http://www.w3.org/2000/svg\" height=\"24px\"viewBox=\"0 0 24 24\"\n",
              "     width=\"24px\">\n",
              "    <g>\n",
              "        <path d=\"M19 3H5c-1.1 0-2 .9-2 2v14c0 1.1.9 2 2 2h14c1.1 0 2-.9 2-2V5c0-1.1-.9-2-2-2zM9 17H7v-7h2v7zm4 0h-2V7h2v10zm4 0h-2v-4h2v4z\"/>\n",
              "    </g>\n",
              "</svg>\n",
              "  </button>\n",
              "\n",
              "<style>\n",
              "  .colab-df-quickchart {\n",
              "      --bg-color: #E8F0FE;\n",
              "      --fill-color: #1967D2;\n",
              "      --hover-bg-color: #E2EBFA;\n",
              "      --hover-fill-color: #174EA6;\n",
              "      --disabled-fill-color: #AAA;\n",
              "      --disabled-bg-color: #DDD;\n",
              "  }\n",
              "\n",
              "  [theme=dark] .colab-df-quickchart {\n",
              "      --bg-color: #3B4455;\n",
              "      --fill-color: #D2E3FC;\n",
              "      --hover-bg-color: #434B5C;\n",
              "      --hover-fill-color: #FFFFFF;\n",
              "      --disabled-bg-color: #3B4455;\n",
              "      --disabled-fill-color: #666;\n",
              "  }\n",
              "\n",
              "  .colab-df-quickchart {\n",
              "    background-color: var(--bg-color);\n",
              "    border: none;\n",
              "    border-radius: 50%;\n",
              "    cursor: pointer;\n",
              "    display: none;\n",
              "    fill: var(--fill-color);\n",
              "    height: 32px;\n",
              "    padding: 0;\n",
              "    width: 32px;\n",
              "  }\n",
              "\n",
              "  .colab-df-quickchart:hover {\n",
              "    background-color: var(--hover-bg-color);\n",
              "    box-shadow: 0 1px 2px rgba(60, 64, 67, 0.3), 0 1px 3px 1px rgba(60, 64, 67, 0.15);\n",
              "    fill: var(--button-hover-fill-color);\n",
              "  }\n",
              "\n",
              "  .colab-df-quickchart-complete:disabled,\n",
              "  .colab-df-quickchart-complete:disabled:hover {\n",
              "    background-color: var(--disabled-bg-color);\n",
              "    fill: var(--disabled-fill-color);\n",
              "    box-shadow: none;\n",
              "  }\n",
              "\n",
              "  .colab-df-spinner {\n",
              "    border: 2px solid var(--fill-color);\n",
              "    border-color: transparent;\n",
              "    border-bottom-color: var(--fill-color);\n",
              "    animation:\n",
              "      spin 1s steps(1) infinite;\n",
              "  }\n",
              "\n",
              "  @keyframes spin {\n",
              "    0% {\n",
              "      border-color: transparent;\n",
              "      border-bottom-color: var(--fill-color);\n",
              "      border-left-color: var(--fill-color);\n",
              "    }\n",
              "    20% {\n",
              "      border-color: transparent;\n",
              "      border-left-color: var(--fill-color);\n",
              "      border-top-color: var(--fill-color);\n",
              "    }\n",
              "    30% {\n",
              "      border-color: transparent;\n",
              "      border-left-color: var(--fill-color);\n",
              "      border-top-color: var(--fill-color);\n",
              "      border-right-color: var(--fill-color);\n",
              "    }\n",
              "    40% {\n",
              "      border-color: transparent;\n",
              "      border-right-color: var(--fill-color);\n",
              "      border-top-color: var(--fill-color);\n",
              "    }\n",
              "    60% {\n",
              "      border-color: transparent;\n",
              "      border-right-color: var(--fill-color);\n",
              "    }\n",
              "    80% {\n",
              "      border-color: transparent;\n",
              "      border-right-color: var(--fill-color);\n",
              "      border-bottom-color: var(--fill-color);\n",
              "    }\n",
              "    90% {\n",
              "      border-color: transparent;\n",
              "      border-bottom-color: var(--fill-color);\n",
              "    }\n",
              "  }\n",
              "</style>\n",
              "\n",
              "  <script>\n",
              "    async function quickchart(key) {\n",
              "      const quickchartButtonEl =\n",
              "        document.querySelector('#' + key + ' button');\n",
              "      quickchartButtonEl.disabled = true;  // To prevent multiple clicks.\n",
              "      quickchartButtonEl.classList.add('colab-df-spinner');\n",
              "      try {\n",
              "        const charts = await google.colab.kernel.invokeFunction(\n",
              "            'suggestCharts', [key], {});\n",
              "      } catch (error) {\n",
              "        console.error('Error during call to suggestCharts:', error);\n",
              "      }\n",
              "      quickchartButtonEl.classList.remove('colab-df-spinner');\n",
              "      quickchartButtonEl.classList.add('colab-df-quickchart-complete');\n",
              "    }\n",
              "    (() => {\n",
              "      let quickchartButtonEl =\n",
              "        document.querySelector('#df-9e0b1332-a506-43d9-b67c-5086f8d41a80 button');\n",
              "      quickchartButtonEl.style.display =\n",
              "        google.colab.kernel.accessAllowed ? 'block' : 'none';\n",
              "    })();\n",
              "  </script>\n",
              "</div>\n",
              "\n",
              "    </div>\n",
              "  </div>\n"
            ],
            "application/vnd.google.colaboratory.intrinsic+json": {
              "type": "dataframe",
              "variable_name": "df"
            }
          },
          "metadata": {},
          "execution_count": 7
        }
      ]
    },
    {
      "cell_type": "code",
      "source": [
        "#Importing NumPy and Creating Arrays\n",
        "import numpy as np\n",
        "users = df['Active_Users'].values\n",
        "ratings = df['User_Rating'].values\n",
        "durations = df['Session_Duration_sec'].values"
      ],
      "metadata": {
        "id": "zvX_p9G2ht1s"
      },
      "execution_count": 8,
      "outputs": []
    },
    {
      "cell_type": "code",
      "source": [
        "# Fixed Type Arrays & Data Types\n",
        "users.dtype  # dtype('int64')\n",
        "ratings.dtype  # dtype('int64')"
      ],
      "metadata": {
        "colab": {
          "base_uri": "https://localhost:8080/"
        },
        "id": "_LtTfJm_ibAX",
        "outputId": "9eee1ddd-8b13-4eaa-c8ac-4cdf8aeb8336"
      },
      "execution_count": null,
      "outputs": [
        {
          "output_type": "execute_result",
          "data": {
            "text/plain": [
              "dtype('int64')"
            ]
          },
          "metadata": {},
          "execution_count": 11
        }
      ]
    },
    {
      "cell_type": "code",
      "source": [
        " #Array Indexing and Slicing\n",
        "print(users[0])        # First user count\n",
        "print(users[0:5])      # First 5 user counts\n",
        "print(users[-1])       # Last entry"
      ],
      "metadata": {
        "colab": {
          "base_uri": "https://localhost:8080/"
        },
        "id": "VjZG5CI4ijBY",
        "outputId": "b70157d1-0d1c-42ae-e5dd-b3dd0f9ea6bf"
      },
      "execution_count": 9,
      "outputs": [
        {
          "output_type": "stream",
          "name": "stdout",
          "text": [
            "500000\n",
            "[ 500000  500000  500000  500000 1700000]\n",
            "1700000\n"
          ]
        }
      ]
    },
    {
      "cell_type": "code",
      "source": [
        " #Reshaping Arrays\n",
        "reshaped = users[:10].reshape(2, 5)  # 2 rows, 5 cols\n",
        "print(\"Reshaped array (2x5):\\n\", reshaped)"
      ],
      "metadata": {
        "colab": {
          "base_uri": "https://localhost:8080/"
        },
        "id": "lUG_RfFgit0i",
        "outputId": "3da29d98-dee6-4ec5-ba42-51ff293b80e7"
      },
      "execution_count": 10,
      "outputs": [
        {
          "output_type": "stream",
          "name": "stdout",
          "text": [
            "Reshaped array (2x5):\n",
            " [[ 500000  500000  500000  500000 1700000]\n",
            " [1700000 1700000 1700000 1700000 1700000]]\n"
          ]
        }
      ]
    },
    {
      "cell_type": "code",
      "source": [
        " #Concatenation and Splitting\n",
        "combined = np.concatenate([users[:5], users[-5:]])\n",
        "print(\"Concatenated array:\", combined)\n",
        "\n",
        "split1, split2 = np.split(users[:10], 2)\n",
        "print(\"First split:\", split1)\n",
        "print(\"Second split:\", split2)"
      ],
      "metadata": {
        "colab": {
          "base_uri": "https://localhost:8080/"
        },
        "id": "C-RyOo7cjH6Y",
        "outputId": "558ad972-9b5c-48e8-aadb-6dec7609bbaa"
      },
      "execution_count": 11,
      "outputs": [
        {
          "output_type": "stream",
          "name": "stdout",
          "text": [
            "Concatenated array: [ 500000  500000  500000  500000 1700000 1700000 1700000 1700000 1700000\n",
            " 1700000]\n",
            "First split: [ 500000  500000  500000  500000 1700000]\n",
            "Second split: [1700000 1700000 1700000 1700000 1700000]\n"
          ]
        }
      ]
    },
    {
      "cell_type": "code",
      "source": [
        "#Universal Functions\n",
        "print(\"Square root of first 5 ratings:\", np.sqrt(ratings[:5]))\n",
        "print(\"Log of first 5 user counts:\", np.log1p(users[:5]))\n",
        "print(\"Exponential of first 5 durations:\", np.exp(durations[:5]))"
      ],
      "metadata": {
        "colab": {
          "base_uri": "https://localhost:8080/"
        },
        "id": "ncmup8ThqB-5",
        "outputId": "63ae3967-e710-459a-b2eb-300ac5b619be"
      },
      "execution_count": 12,
      "outputs": [
        {
          "output_type": "stream",
          "name": "stdout",
          "text": [
            "Square root of first 5 ratings: [2.         2.         1.73205081 2.23606798 2.23606798]\n",
            "Log of first 5 user counts: [13.12236538 13.12236538 13.12236538 13.12236538 14.3461394 ]\n",
            "Exponential of first 5 durations: [2.35385267e+17 2.64891221e+10 5.83461743e+14 6.56599691e+07\n",
            " 2.20264658e+04]\n"
          ]
        }
      ]
    },
    {
      "cell_type": "code",
      "source": [
        "#Aggregations\n",
        "print(\"Average rating:\", np.mean(ratings))\n",
        "print(\"Total active users:\", np.sum(users))\n",
        "print(\"Maximum session duration:\", np.max(durations))\n",
        "print(\"Median session duration:\", np.median(durations))"
      ],
      "metadata": {
        "colab": {
          "base_uri": "https://localhost:8080/"
        },
        "id": "kDuv-lAeqKZ4",
        "outputId": "7bfec81d-8d75-4595-f716-dbd84ec7f470"
      },
      "execution_count": 13,
      "outputs": [
        {
          "output_type": "stream",
          "name": "stdout",
          "text": [
            "Average rating: 4.3947\n",
            "Total active users: 11962550000\n",
            "Maximum session duration: 60\n",
            "Median session duration: 27.0\n"
          ]
        }
      ]
    },
    {
      "cell_type": "code",
      "source": [
        "#Broadcasting Rules\n",
        "normalized = durations / np.max(durations)\n",
        "print(\"Normalized durations:\", normalized[:5])"
      ],
      "metadata": {
        "colab": {
          "base_uri": "https://localhost:8080/"
        },
        "id": "u_3TUJwhqanz",
        "outputId": "01ff2a32-3de2-4b06-a874-17add52d7d04"
      },
      "execution_count": 14,
      "outputs": [
        {
          "output_type": "stream",
          "name": "stdout",
          "text": [
            "Normalized durations: [0.66666667 0.4        0.56666667 0.3        0.16666667]\n"
          ]
        }
      ]
    },
    {
      "cell_type": "code",
      "source": [
        "#Comparisons and Boolean Arrays\n",
        "high_rating = ratings > 4\n",
        "long_sessions = durations > 60\n",
        "print(\"High ratings (>4):\", high_rating[:5])\n",
        "print(\"Long sessions (>60 sec):\", long_sessions[:5])"
      ],
      "metadata": {
        "colab": {
          "base_uri": "https://localhost:8080/"
        },
        "id": "IrN1zCBPqiRO",
        "outputId": "8351d297-703a-48a7-a6c2-9a1be2467a67"
      },
      "execution_count": 15,
      "outputs": [
        {
          "output_type": "stream",
          "name": "stdout",
          "text": [
            "High ratings (>4): [False False False  True  True]\n",
            "Long sessions (>60 sec): [False False False False False]\n"
          ]
        }
      ]
    },
    {
      "cell_type": "code",
      "source": [
        "#Masks and Fancy Indexing\n",
        "high_rating_users = users[ratings > 4]\n",
        "long_sessions_values = durations[durations > 60]\n",
        "print(\"Users with high ratings:\", high_rating_users[:5])\n",
        "print(\"Durations > 60 sec:\", long_sessions_values[:5])"
      ],
      "metadata": {
        "colab": {
          "base_uri": "https://localhost:8080/"
        },
        "id": "irMY83FDqzG_",
        "outputId": "0ac66f57-e870-469a-e06a-b1af536f38fd"
      },
      "execution_count": 16,
      "outputs": [
        {
          "output_type": "stream",
          "name": "stdout",
          "text": [
            "Users with high ratings: [ 500000 1700000 1700000 1700000 1700000]\n",
            "Durations > 60 sec: []\n"
          ]
        }
      ]
    },
    {
      "cell_type": "code",
      "source": [
        "#Fast Sorting with np.sort and np.argsort\n",
        "sorted_ratings = np.sort(ratings)\n",
        "print(\"Sorted ratings:\", sorted_ratings[:10])\n",
        "\n",
        "top_duration_indices = np.argsort(durations)[-5:]\n",
        "print(\"Top 5 longest session durations:\", durations[top_duration_indices])"
      ],
      "metadata": {
        "colab": {
          "base_uri": "https://localhost:8080/"
        },
        "id": "EXYVz4pOrsop",
        "outputId": "0f7537da-c320-41bb-a363-ab8c3786eb12"
      },
      "execution_count": 17,
      "outputs": [
        {
          "output_type": "stream",
          "name": "stdout",
          "text": [
            "Sorted ratings: [3 3 3 3 3 3 3 3 3 3]\n",
            "Top 5 longest session durations: [60 60 60 60 60]\n"
          ]
        }
      ]
    },
    {
      "cell_type": "code",
      "source": [
        " #Partial Sorting with np.partition\n",
        "top5_fast = np.partition(durations, -5)[-5:]\n",
        "print(\"Top 5 durations using partition:\", top5_fast)"
      ],
      "metadata": {
        "colab": {
          "base_uri": "https://localhost:8080/"
        },
        "id": "oTxbc_ROr0jF",
        "outputId": "08211f1c-a09a-4208-9842-3116082192c5"
      },
      "execution_count": 19,
      "outputs": [
        {
          "output_type": "stream",
          "name": "stdout",
          "text": [
            "Top 5 durations using partition: [60 60 60 60 60]\n"
          ]
        }
      ]
    },
    {
      "cell_type": "code",
      "source": [
        "import pandas as pd\n",
        "import numpy as np\n",
        "\n",
        "# Load CSV file\n",
        "df = pd.read_csv('/content/deepseek_vs_chatgpt.csv')\n",
        "\n",
        "# Extract columns as NumPy arrays\n",
        "users = np.array(df['Active_Users'], dtype=np.int32)\n",
        "ratings = np.array(df['User_Rating'], dtype=np.int32)\n",
        "durations = np.array(df['Session_Duration_sec'], dtype=np.int32)"
      ],
      "metadata": {
        "id": "ekExU4VJWEeg"
      },
      "execution_count": 18,
      "outputs": []
    },
    {
      "cell_type": "code",
      "source": [
        "#Partial Sorting\n",
        "top5_fast = np.partition(durations, -5)[-5:]\n",
        "print(\"Top 5 session durations (unsorted):\", top5_fast)"
      ],
      "metadata": {
        "colab": {
          "base_uri": "https://localhost:8080/"
        },
        "id": "Fwju8rYsWXHL",
        "outputId": "2c37fc5d-7cdc-43cd-aa4a-ff089c2c8675"
      },
      "execution_count": 20,
      "outputs": [
        {
          "output_type": "stream",
          "name": "stdout",
          "text": [
            "Top 5 session durations (unsorted): [60 60 60 60 60]\n"
          ]
        }
      ]
    },
    {
      "cell_type": "code",
      "source": [
        "#Cumulative Sum\n",
        "cumulative = np.cumsum(users[:5])\n",
        "print(\"Cumulative user count:\", cumulative)"
      ],
      "metadata": {
        "colab": {
          "base_uri": "https://localhost:8080/"
        },
        "id": "-Nqko0DlWl2A",
        "outputId": "5248e7a7-bcc3-4c35-d86c-0092560b34da"
      },
      "execution_count": 21,
      "outputs": [
        {
          "output_type": "stream",
          "name": "stdout",
          "text": [
            "Cumulative user count: [ 500000 1000000 1500000 2000000 3700000]\n"
          ]
        }
      ]
    }
  ]
}