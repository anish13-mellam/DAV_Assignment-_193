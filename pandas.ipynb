{
  "nbformat": 4,
  "nbformat_minor": 0,
  "metadata": {
    "colab": {
      "provenance": [],
      "authorship_tag": "ABX9TyOhXitycp20gxR9AmsfGPde",
      "include_colab_link": true
    },
    "kernelspec": {
      "name": "python3",
      "display_name": "Python 3"
    },
    "language_info": {
      "name": "python"
    }
  },
  "cells": [
    {
      "cell_type": "markdown",
      "metadata": {
        "id": "view-in-github",
        "colab_type": "text"
      },
      "source": [
        "<a href=\"https://colab.research.google.com/github/anish13-mellam/DAV_Assignment-_193/blob/main/pandas.ipynb\" target=\"_parent\"><img src=\"https://colab.research.google.com/assets/colab-badge.svg\" alt=\"Open In Colab\"/></a>"
      ]
    },
    {
      "cell_type": "code",
      "execution_count": 2,
      "metadata": {
        "colab": {
          "base_uri": "https://localhost:8080/",
          "height": 73
        },
        "id": "SXZhkD1Au7FL",
        "outputId": "54072504-7632-4f09-9627-566015148ee2"
      },
      "outputs": [
        {
          "output_type": "display_data",
          "data": {
            "text/plain": [
              "<IPython.core.display.HTML object>"
            ],
            "text/html": [
              "\n",
              "     <input type=\"file\" id=\"files-8317b9b3-2e76-4f25-9b25-ada65330aaa3\" name=\"files[]\" multiple disabled\n",
              "        style=\"border:none\" />\n",
              "     <output id=\"result-8317b9b3-2e76-4f25-9b25-ada65330aaa3\">\n",
              "      Upload widget is only available when the cell has been executed in the\n",
              "      current browser session. Please rerun this cell to enable.\n",
              "      </output>\n",
              "      <script>// Copyright 2017 Google LLC\n",
              "//\n",
              "// Licensed under the Apache License, Version 2.0 (the \"License\");\n",
              "// you may not use this file except in compliance with the License.\n",
              "// You may obtain a copy of the License at\n",
              "//\n",
              "//      http://www.apache.org/licenses/LICENSE-2.0\n",
              "//\n",
              "// Unless required by applicable law or agreed to in writing, software\n",
              "// distributed under the License is distributed on an \"AS IS\" BASIS,\n",
              "// WITHOUT WARRANTIES OR CONDITIONS OF ANY KIND, either express or implied.\n",
              "// See the License for the specific language governing permissions and\n",
              "// limitations under the License.\n",
              "\n",
              "/**\n",
              " * @fileoverview Helpers for google.colab Python module.\n",
              " */\n",
              "(function(scope) {\n",
              "function span(text, styleAttributes = {}) {\n",
              "  const element = document.createElement('span');\n",
              "  element.textContent = text;\n",
              "  for (const key of Object.keys(styleAttributes)) {\n",
              "    element.style[key] = styleAttributes[key];\n",
              "  }\n",
              "  return element;\n",
              "}\n",
              "\n",
              "// Max number of bytes which will be uploaded at a time.\n",
              "const MAX_PAYLOAD_SIZE = 100 * 1024;\n",
              "\n",
              "function _uploadFiles(inputId, outputId) {\n",
              "  const steps = uploadFilesStep(inputId, outputId);\n",
              "  const outputElement = document.getElementById(outputId);\n",
              "  // Cache steps on the outputElement to make it available for the next call\n",
              "  // to uploadFilesContinue from Python.\n",
              "  outputElement.steps = steps;\n",
              "\n",
              "  return _uploadFilesContinue(outputId);\n",
              "}\n",
              "\n",
              "// This is roughly an async generator (not supported in the browser yet),\n",
              "// where there are multiple asynchronous steps and the Python side is going\n",
              "// to poll for completion of each step.\n",
              "// This uses a Promise to block the python side on completion of each step,\n",
              "// then passes the result of the previous step as the input to the next step.\n",
              "function _uploadFilesContinue(outputId) {\n",
              "  const outputElement = document.getElementById(outputId);\n",
              "  const steps = outputElement.steps;\n",
              "\n",
              "  const next = steps.next(outputElement.lastPromiseValue);\n",
              "  return Promise.resolve(next.value.promise).then((value) => {\n",
              "    // Cache the last promise value to make it available to the next\n",
              "    // step of the generator.\n",
              "    outputElement.lastPromiseValue = value;\n",
              "    return next.value.response;\n",
              "  });\n",
              "}\n",
              "\n",
              "/**\n",
              " * Generator function which is called between each async step of the upload\n",
              " * process.\n",
              " * @param {string} inputId Element ID of the input file picker element.\n",
              " * @param {string} outputId Element ID of the output display.\n",
              " * @return {!Iterable<!Object>} Iterable of next steps.\n",
              " */\n",
              "function* uploadFilesStep(inputId, outputId) {\n",
              "  const inputElement = document.getElementById(inputId);\n",
              "  inputElement.disabled = false;\n",
              "\n",
              "  const outputElement = document.getElementById(outputId);\n",
              "  outputElement.innerHTML = '';\n",
              "\n",
              "  const pickedPromise = new Promise((resolve) => {\n",
              "    inputElement.addEventListener('change', (e) => {\n",
              "      resolve(e.target.files);\n",
              "    });\n",
              "  });\n",
              "\n",
              "  const cancel = document.createElement('button');\n",
              "  inputElement.parentElement.appendChild(cancel);\n",
              "  cancel.textContent = 'Cancel upload';\n",
              "  const cancelPromise = new Promise((resolve) => {\n",
              "    cancel.onclick = () => {\n",
              "      resolve(null);\n",
              "    };\n",
              "  });\n",
              "\n",
              "  // Wait for the user to pick the files.\n",
              "  const files = yield {\n",
              "    promise: Promise.race([pickedPromise, cancelPromise]),\n",
              "    response: {\n",
              "      action: 'starting',\n",
              "    }\n",
              "  };\n",
              "\n",
              "  cancel.remove();\n",
              "\n",
              "  // Disable the input element since further picks are not allowed.\n",
              "  inputElement.disabled = true;\n",
              "\n",
              "  if (!files) {\n",
              "    return {\n",
              "      response: {\n",
              "        action: 'complete',\n",
              "      }\n",
              "    };\n",
              "  }\n",
              "\n",
              "  for (const file of files) {\n",
              "    const li = document.createElement('li');\n",
              "    li.append(span(file.name, {fontWeight: 'bold'}));\n",
              "    li.append(span(\n",
              "        `(${file.type || 'n/a'}) - ${file.size} bytes, ` +\n",
              "        `last modified: ${\n",
              "            file.lastModifiedDate ? file.lastModifiedDate.toLocaleDateString() :\n",
              "                                    'n/a'} - `));\n",
              "    const percent = span('0% done');\n",
              "    li.appendChild(percent);\n",
              "\n",
              "    outputElement.appendChild(li);\n",
              "\n",
              "    const fileDataPromise = new Promise((resolve) => {\n",
              "      const reader = new FileReader();\n",
              "      reader.onload = (e) => {\n",
              "        resolve(e.target.result);\n",
              "      };\n",
              "      reader.readAsArrayBuffer(file);\n",
              "    });\n",
              "    // Wait for the data to be ready.\n",
              "    let fileData = yield {\n",
              "      promise: fileDataPromise,\n",
              "      response: {\n",
              "        action: 'continue',\n",
              "      }\n",
              "    };\n",
              "\n",
              "    // Use a chunked sending to avoid message size limits. See b/62115660.\n",
              "    let position = 0;\n",
              "    do {\n",
              "      const length = Math.min(fileData.byteLength - position, MAX_PAYLOAD_SIZE);\n",
              "      const chunk = new Uint8Array(fileData, position, length);\n",
              "      position += length;\n",
              "\n",
              "      const base64 = btoa(String.fromCharCode.apply(null, chunk));\n",
              "      yield {\n",
              "        response: {\n",
              "          action: 'append',\n",
              "          file: file.name,\n",
              "          data: base64,\n",
              "        },\n",
              "      };\n",
              "\n",
              "      let percentDone = fileData.byteLength === 0 ?\n",
              "          100 :\n",
              "          Math.round((position / fileData.byteLength) * 100);\n",
              "      percent.textContent = `${percentDone}% done`;\n",
              "\n",
              "    } while (position < fileData.byteLength);\n",
              "  }\n",
              "\n",
              "  // All done.\n",
              "  yield {\n",
              "    response: {\n",
              "      action: 'complete',\n",
              "    }\n",
              "  };\n",
              "}\n",
              "\n",
              "scope.google = scope.google || {};\n",
              "scope.google.colab = scope.google.colab || {};\n",
              "scope.google.colab._files = {\n",
              "  _uploadFiles,\n",
              "  _uploadFilesContinue,\n",
              "};\n",
              "})(self);\n",
              "</script> "
            ]
          },
          "metadata": {}
        },
        {
          "output_type": "stream",
          "name": "stdout",
          "text": [
            "Saving deepseek_vs_chatgpt.csv to deepseek_vs_chatgpt (1).csv\n"
          ]
        }
      ],
      "source": [
        "from google.colab import files\n",
        "uploaded = files.upload()"
      ]
    },
    {
      "cell_type": "code",
      "source": [
        "import pandas as pd\n",
        "\n",
        "df = pd.read_csv('deepseek_vs_chatgpt.csv')  # Use the correct file name\n",
        "df.head()  # Optional: preview the data"
      ],
      "metadata": {
        "colab": {
          "base_uri": "https://localhost:8080/",
          "height": 394
        },
        "id": "EtBALkJNvL6h",
        "outputId": "6410a4b0-b3d4-4f16-8bac-18b283f4cd61"
      },
      "execution_count": 3,
      "outputs": [
        {
          "output_type": "execute_result",
          "data": {
            "text/plain": [
              "         Date  Month_Num   Weekday AI_Platform   AI_Model_Version  \\\n",
              "0  2024-09-21          9  Saturday     ChatGPT        GPT-4-turbo   \n",
              "1  2024-09-21          9  Saturday     ChatGPT        GPT-4-turbo   \n",
              "2  2024-09-21          9  Saturday     ChatGPT        GPT-4-turbo   \n",
              "3  2024-09-21          9  Saturday     ChatGPT        GPT-4-turbo   \n",
              "4  2024-05-16          5  Thursday    DeepSeek  DeepSeek-Chat 1.5   \n",
              "\n",
              "   Active_Users  New_Users  Churned_Users  Daily_Churn_Rate  Retention_Rate  \\\n",
              "0        500000      25000          25000              0.05            0.95   \n",
              "1        500000      25000          25000              0.05            0.95   \n",
              "2        500000      25000          25000              0.05            0.95   \n",
              "3        500000      25000          25000              0.05            0.95   \n",
              "4       1700000     170000          34000              0.02            0.95   \n",
              "\n",
              "   ... Session_Duration_sec     Device_Type Language  Response_Accuracy  \\\n",
              "0  ...                   40          Mobile       es             0.7842   \n",
              "1  ...                   24  Laptop/Desktop       zh             0.8194   \n",
              "2  ...                   34          Mobile       en             0.8090   \n",
              "3  ...                   18          Mobile       fr             0.8233   \n",
              "4  ...                   10          Mobile       de             0.9366   \n",
              "\n",
              "   Response_Speed_sec Response_Time_Category  Correction_Needed  \\\n",
              "0                3.30               Standard                  0   \n",
              "1                3.28               Standard                  1   \n",
              "2                3.07               Standard                  0   \n",
              "3                3.06               Standard                  0   \n",
              "4                1.48                   Fast                  0   \n",
              "\n",
              "   User_Return_Frequency  Customer_Support_Interactions  \\\n",
              "0                      6                              2   \n",
              "1                      2                              2   \n",
              "2                      2                              0   \n",
              "3                      9                              0   \n",
              "4                      9                              3   \n",
              "\n",
              "                                         Region  \n",
              "0  Antarctica (the territory South of 60 deg S)  \n",
              "1                                       Ukraine  \n",
              "2                                       Grenada  \n",
              "3                                        Guyana  \n",
              "4                                         India  \n",
              "\n",
              "[5 rows x 28 columns]"
            ],
            "text/html": [
              "\n",
              "  <div id=\"df-5c1c904a-1217-4b2d-911b-b13c3fa27476\" class=\"colab-df-container\">\n",
              "    <div>\n",
              "<style scoped>\n",
              "    .dataframe tbody tr th:only-of-type {\n",
              "        vertical-align: middle;\n",
              "    }\n",
              "\n",
              "    .dataframe tbody tr th {\n",
              "        vertical-align: top;\n",
              "    }\n",
              "\n",
              "    .dataframe thead th {\n",
              "        text-align: right;\n",
              "    }\n",
              "</style>\n",
              "<table border=\"1\" class=\"dataframe\">\n",
              "  <thead>\n",
              "    <tr style=\"text-align: right;\">\n",
              "      <th></th>\n",
              "      <th>Date</th>\n",
              "      <th>Month_Num</th>\n",
              "      <th>Weekday</th>\n",
              "      <th>AI_Platform</th>\n",
              "      <th>AI_Model_Version</th>\n",
              "      <th>Active_Users</th>\n",
              "      <th>New_Users</th>\n",
              "      <th>Churned_Users</th>\n",
              "      <th>Daily_Churn_Rate</th>\n",
              "      <th>Retention_Rate</th>\n",
              "      <th>...</th>\n",
              "      <th>Session_Duration_sec</th>\n",
              "      <th>Device_Type</th>\n",
              "      <th>Language</th>\n",
              "      <th>Response_Accuracy</th>\n",
              "      <th>Response_Speed_sec</th>\n",
              "      <th>Response_Time_Category</th>\n",
              "      <th>Correction_Needed</th>\n",
              "      <th>User_Return_Frequency</th>\n",
              "      <th>Customer_Support_Interactions</th>\n",
              "      <th>Region</th>\n",
              "    </tr>\n",
              "  </thead>\n",
              "  <tbody>\n",
              "    <tr>\n",
              "      <th>0</th>\n",
              "      <td>2024-09-21</td>\n",
              "      <td>9</td>\n",
              "      <td>Saturday</td>\n",
              "      <td>ChatGPT</td>\n",
              "      <td>GPT-4-turbo</td>\n",
              "      <td>500000</td>\n",
              "      <td>25000</td>\n",
              "      <td>25000</td>\n",
              "      <td>0.05</td>\n",
              "      <td>0.95</td>\n",
              "      <td>...</td>\n",
              "      <td>40</td>\n",
              "      <td>Mobile</td>\n",
              "      <td>es</td>\n",
              "      <td>0.7842</td>\n",
              "      <td>3.30</td>\n",
              "      <td>Standard</td>\n",
              "      <td>0</td>\n",
              "      <td>6</td>\n",
              "      <td>2</td>\n",
              "      <td>Antarctica (the territory South of 60 deg S)</td>\n",
              "    </tr>\n",
              "    <tr>\n",
              "      <th>1</th>\n",
              "      <td>2024-09-21</td>\n",
              "      <td>9</td>\n",
              "      <td>Saturday</td>\n",
              "      <td>ChatGPT</td>\n",
              "      <td>GPT-4-turbo</td>\n",
              "      <td>500000</td>\n",
              "      <td>25000</td>\n",
              "      <td>25000</td>\n",
              "      <td>0.05</td>\n",
              "      <td>0.95</td>\n",
              "      <td>...</td>\n",
              "      <td>24</td>\n",
              "      <td>Laptop/Desktop</td>\n",
              "      <td>zh</td>\n",
              "      <td>0.8194</td>\n",
              "      <td>3.28</td>\n",
              "      <td>Standard</td>\n",
              "      <td>1</td>\n",
              "      <td>2</td>\n",
              "      <td>2</td>\n",
              "      <td>Ukraine</td>\n",
              "    </tr>\n",
              "    <tr>\n",
              "      <th>2</th>\n",
              "      <td>2024-09-21</td>\n",
              "      <td>9</td>\n",
              "      <td>Saturday</td>\n",
              "      <td>ChatGPT</td>\n",
              "      <td>GPT-4-turbo</td>\n",
              "      <td>500000</td>\n",
              "      <td>25000</td>\n",
              "      <td>25000</td>\n",
              "      <td>0.05</td>\n",
              "      <td>0.95</td>\n",
              "      <td>...</td>\n",
              "      <td>34</td>\n",
              "      <td>Mobile</td>\n",
              "      <td>en</td>\n",
              "      <td>0.8090</td>\n",
              "      <td>3.07</td>\n",
              "      <td>Standard</td>\n",
              "      <td>0</td>\n",
              "      <td>2</td>\n",
              "      <td>0</td>\n",
              "      <td>Grenada</td>\n",
              "    </tr>\n",
              "    <tr>\n",
              "      <th>3</th>\n",
              "      <td>2024-09-21</td>\n",
              "      <td>9</td>\n",
              "      <td>Saturday</td>\n",
              "      <td>ChatGPT</td>\n",
              "      <td>GPT-4-turbo</td>\n",
              "      <td>500000</td>\n",
              "      <td>25000</td>\n",
              "      <td>25000</td>\n",
              "      <td>0.05</td>\n",
              "      <td>0.95</td>\n",
              "      <td>...</td>\n",
              "      <td>18</td>\n",
              "      <td>Mobile</td>\n",
              "      <td>fr</td>\n",
              "      <td>0.8233</td>\n",
              "      <td>3.06</td>\n",
              "      <td>Standard</td>\n",
              "      <td>0</td>\n",
              "      <td>9</td>\n",
              "      <td>0</td>\n",
              "      <td>Guyana</td>\n",
              "    </tr>\n",
              "    <tr>\n",
              "      <th>4</th>\n",
              "      <td>2024-05-16</td>\n",
              "      <td>5</td>\n",
              "      <td>Thursday</td>\n",
              "      <td>DeepSeek</td>\n",
              "      <td>DeepSeek-Chat 1.5</td>\n",
              "      <td>1700000</td>\n",
              "      <td>170000</td>\n",
              "      <td>34000</td>\n",
              "      <td>0.02</td>\n",
              "      <td>0.95</td>\n",
              "      <td>...</td>\n",
              "      <td>10</td>\n",
              "      <td>Mobile</td>\n",
              "      <td>de</td>\n",
              "      <td>0.9366</td>\n",
              "      <td>1.48</td>\n",
              "      <td>Fast</td>\n",
              "      <td>0</td>\n",
              "      <td>9</td>\n",
              "      <td>3</td>\n",
              "      <td>India</td>\n",
              "    </tr>\n",
              "  </tbody>\n",
              "</table>\n",
              "<p>5 rows × 28 columns</p>\n",
              "</div>\n",
              "    <div class=\"colab-df-buttons\">\n",
              "\n",
              "  <div class=\"colab-df-container\">\n",
              "    <button class=\"colab-df-convert\" onclick=\"convertToInteractive('df-5c1c904a-1217-4b2d-911b-b13c3fa27476')\"\n",
              "            title=\"Convert this dataframe to an interactive table.\"\n",
              "            style=\"display:none;\">\n",
              "\n",
              "  <svg xmlns=\"http://www.w3.org/2000/svg\" height=\"24px\" viewBox=\"0 -960 960 960\">\n",
              "    <path d=\"M120-120v-720h720v720H120Zm60-500h600v-160H180v160Zm220 220h160v-160H400v160Zm0 220h160v-160H400v160ZM180-400h160v-160H180v160Zm440 0h160v-160H620v160ZM180-180h160v-160H180v160Zm440 0h160v-160H620v160Z\"/>\n",
              "  </svg>\n",
              "    </button>\n",
              "\n",
              "  <style>\n",
              "    .colab-df-container {\n",
              "      display:flex;\n",
              "      gap: 12px;\n",
              "    }\n",
              "\n",
              "    .colab-df-convert {\n",
              "      background-color: #E8F0FE;\n",
              "      border: none;\n",
              "      border-radius: 50%;\n",
              "      cursor: pointer;\n",
              "      display: none;\n",
              "      fill: #1967D2;\n",
              "      height: 32px;\n",
              "      padding: 0 0 0 0;\n",
              "      width: 32px;\n",
              "    }\n",
              "\n",
              "    .colab-df-convert:hover {\n",
              "      background-color: #E2EBFA;\n",
              "      box-shadow: 0px 1px 2px rgba(60, 64, 67, 0.3), 0px 1px 3px 1px rgba(60, 64, 67, 0.15);\n",
              "      fill: #174EA6;\n",
              "    }\n",
              "\n",
              "    .colab-df-buttons div {\n",
              "      margin-bottom: 4px;\n",
              "    }\n",
              "\n",
              "    [theme=dark] .colab-df-convert {\n",
              "      background-color: #3B4455;\n",
              "      fill: #D2E3FC;\n",
              "    }\n",
              "\n",
              "    [theme=dark] .colab-df-convert:hover {\n",
              "      background-color: #434B5C;\n",
              "      box-shadow: 0px 1px 3px 1px rgba(0, 0, 0, 0.15);\n",
              "      filter: drop-shadow(0px 1px 2px rgba(0, 0, 0, 0.3));\n",
              "      fill: #FFFFFF;\n",
              "    }\n",
              "  </style>\n",
              "\n",
              "    <script>\n",
              "      const buttonEl =\n",
              "        document.querySelector('#df-5c1c904a-1217-4b2d-911b-b13c3fa27476 button.colab-df-convert');\n",
              "      buttonEl.style.display =\n",
              "        google.colab.kernel.accessAllowed ? 'block' : 'none';\n",
              "\n",
              "      async function convertToInteractive(key) {\n",
              "        const element = document.querySelector('#df-5c1c904a-1217-4b2d-911b-b13c3fa27476');\n",
              "        const dataTable =\n",
              "          await google.colab.kernel.invokeFunction('convertToInteractive',\n",
              "                                                    [key], {});\n",
              "        if (!dataTable) return;\n",
              "\n",
              "        const docLinkHtml = 'Like what you see? Visit the ' +\n",
              "          '<a target=\"_blank\" href=https://colab.research.google.com/notebooks/data_table.ipynb>data table notebook</a>'\n",
              "          + ' to learn more about interactive tables.';\n",
              "        element.innerHTML = '';\n",
              "        dataTable['output_type'] = 'display_data';\n",
              "        await google.colab.output.renderOutput(dataTable, element);\n",
              "        const docLink = document.createElement('div');\n",
              "        docLink.innerHTML = docLinkHtml;\n",
              "        element.appendChild(docLink);\n",
              "      }\n",
              "    </script>\n",
              "  </div>\n",
              "\n",
              "\n",
              "<div id=\"df-f0cd6761-406c-44b6-96b0-34de2932a7c2\">\n",
              "  <button class=\"colab-df-quickchart\" onclick=\"quickchart('df-f0cd6761-406c-44b6-96b0-34de2932a7c2')\"\n",
              "            title=\"Suggest charts\"\n",
              "            style=\"display:none;\">\n",
              "\n",
              "<svg xmlns=\"http://www.w3.org/2000/svg\" height=\"24px\"viewBox=\"0 0 24 24\"\n",
              "     width=\"24px\">\n",
              "    <g>\n",
              "        <path d=\"M19 3H5c-1.1 0-2 .9-2 2v14c0 1.1.9 2 2 2h14c1.1 0 2-.9 2-2V5c0-1.1-.9-2-2-2zM9 17H7v-7h2v7zm4 0h-2V7h2v10zm4 0h-2v-4h2v4z\"/>\n",
              "    </g>\n",
              "</svg>\n",
              "  </button>\n",
              "\n",
              "<style>\n",
              "  .colab-df-quickchart {\n",
              "      --bg-color: #E8F0FE;\n",
              "      --fill-color: #1967D2;\n",
              "      --hover-bg-color: #E2EBFA;\n",
              "      --hover-fill-color: #174EA6;\n",
              "      --disabled-fill-color: #AAA;\n",
              "      --disabled-bg-color: #DDD;\n",
              "  }\n",
              "\n",
              "  [theme=dark] .colab-df-quickchart {\n",
              "      --bg-color: #3B4455;\n",
              "      --fill-color: #D2E3FC;\n",
              "      --hover-bg-color: #434B5C;\n",
              "      --hover-fill-color: #FFFFFF;\n",
              "      --disabled-bg-color: #3B4455;\n",
              "      --disabled-fill-color: #666;\n",
              "  }\n",
              "\n",
              "  .colab-df-quickchart {\n",
              "    background-color: var(--bg-color);\n",
              "    border: none;\n",
              "    border-radius: 50%;\n",
              "    cursor: pointer;\n",
              "    display: none;\n",
              "    fill: var(--fill-color);\n",
              "    height: 32px;\n",
              "    padding: 0;\n",
              "    width: 32px;\n",
              "  }\n",
              "\n",
              "  .colab-df-quickchart:hover {\n",
              "    background-color: var(--hover-bg-color);\n",
              "    box-shadow: 0 1px 2px rgba(60, 64, 67, 0.3), 0 1px 3px 1px rgba(60, 64, 67, 0.15);\n",
              "    fill: var(--button-hover-fill-color);\n",
              "  }\n",
              "\n",
              "  .colab-df-quickchart-complete:disabled,\n",
              "  .colab-df-quickchart-complete:disabled:hover {\n",
              "    background-color: var(--disabled-bg-color);\n",
              "    fill: var(--disabled-fill-color);\n",
              "    box-shadow: none;\n",
              "  }\n",
              "\n",
              "  .colab-df-spinner {\n",
              "    border: 2px solid var(--fill-color);\n",
              "    border-color: transparent;\n",
              "    border-bottom-color: var(--fill-color);\n",
              "    animation:\n",
              "      spin 1s steps(1) infinite;\n",
              "  }\n",
              "\n",
              "  @keyframes spin {\n",
              "    0% {\n",
              "      border-color: transparent;\n",
              "      border-bottom-color: var(--fill-color);\n",
              "      border-left-color: var(--fill-color);\n",
              "    }\n",
              "    20% {\n",
              "      border-color: transparent;\n",
              "      border-left-color: var(--fill-color);\n",
              "      border-top-color: var(--fill-color);\n",
              "    }\n",
              "    30% {\n",
              "      border-color: transparent;\n",
              "      border-left-color: var(--fill-color);\n",
              "      border-top-color: var(--fill-color);\n",
              "      border-right-color: var(--fill-color);\n",
              "    }\n",
              "    40% {\n",
              "      border-color: transparent;\n",
              "      border-right-color: var(--fill-color);\n",
              "      border-top-color: var(--fill-color);\n",
              "    }\n",
              "    60% {\n",
              "      border-color: transparent;\n",
              "      border-right-color: var(--fill-color);\n",
              "    }\n",
              "    80% {\n",
              "      border-color: transparent;\n",
              "      border-right-color: var(--fill-color);\n",
              "      border-bottom-color: var(--fill-color);\n",
              "    }\n",
              "    90% {\n",
              "      border-color: transparent;\n",
              "      border-bottom-color: var(--fill-color);\n",
              "    }\n",
              "  }\n",
              "</style>\n",
              "\n",
              "  <script>\n",
              "    async function quickchart(key) {\n",
              "      const quickchartButtonEl =\n",
              "        document.querySelector('#' + key + ' button');\n",
              "      quickchartButtonEl.disabled = true;  // To prevent multiple clicks.\n",
              "      quickchartButtonEl.classList.add('colab-df-spinner');\n",
              "      try {\n",
              "        const charts = await google.colab.kernel.invokeFunction(\n",
              "            'suggestCharts', [key], {});\n",
              "      } catch (error) {\n",
              "        console.error('Error during call to suggestCharts:', error);\n",
              "      }\n",
              "      quickchartButtonEl.classList.remove('colab-df-spinner');\n",
              "      quickchartButtonEl.classList.add('colab-df-quickchart-complete');\n",
              "    }\n",
              "    (() => {\n",
              "      let quickchartButtonEl =\n",
              "        document.querySelector('#df-f0cd6761-406c-44b6-96b0-34de2932a7c2 button');\n",
              "      quickchartButtonEl.style.display =\n",
              "        google.colab.kernel.accessAllowed ? 'block' : 'none';\n",
              "    })();\n",
              "  </script>\n",
              "</div>\n",
              "\n",
              "    </div>\n",
              "  </div>\n"
            ],
            "application/vnd.google.colaboratory.intrinsic+json": {
              "type": "dataframe",
              "variable_name": "df"
            }
          },
          "metadata": {},
          "execution_count": 3
        }
      ]
    },
    {
      "cell_type": "code",
      "source": [
        " # Data Indexing\n",
        "print(\"First row using iloc:\\n\", df.iloc[0])\n",
        "print(\"First row using loc:\\n\", df.loc[0])"
      ],
      "metadata": {
        "colab": {
          "base_uri": "https://localhost:8080/"
        },
        "id": "izs63kn0vgga",
        "outputId": "0f55e7f0-3c3f-47a6-baf6-a1612bf801da"
      },
      "execution_count": 4,
      "outputs": [
        {
          "output_type": "stream",
          "name": "stdout",
          "text": [
            "First row using iloc:\n",
            " Date                                                                    2024-09-21\n",
            "Month_Num                                                                        9\n",
            "Weekday                                                                   Saturday\n",
            "AI_Platform                                                                ChatGPT\n",
            "AI_Model_Version                                                       GPT-4-turbo\n",
            "Active_Users                                                                500000\n",
            "New_Users                                                                    25000\n",
            "Churned_Users                                                                25000\n",
            "Daily_Churn_Rate                                                              0.05\n",
            "Retention_Rate                                                                0.95\n",
            "User_ID                                       c878a177-2da9-4224-8cf8-1d56a1c6a755\n",
            "Query_Type                                                                 General\n",
            "Input_Text                       Draft a professional email about personal finance\n",
            "Input_Text_Length                                                                7\n",
            "Response_Tokens                                                                280\n",
            "Topic_Category                                                Professional Writing\n",
            "User_Rating                                                                      4\n",
            "User_Experience_Score                                                         1.28\n",
            "Session_Duration_sec                                                            40\n",
            "Device_Type                                                                 Mobile\n",
            "Language                                                                        es\n",
            "Response_Accuracy                                                           0.7842\n",
            "Response_Speed_sec                                                             3.3\n",
            "Response_Time_Category                                                    Standard\n",
            "Correction_Needed                                                                0\n",
            "User_Return_Frequency                                                            6\n",
            "Customer_Support_Interactions                                                    2\n",
            "Region                                Antarctica (the territory South of 60 deg S)\n",
            "Name: 0, dtype: object\n",
            "First row using loc:\n",
            " Date                                                                    2024-09-21\n",
            "Month_Num                                                                        9\n",
            "Weekday                                                                   Saturday\n",
            "AI_Platform                                                                ChatGPT\n",
            "AI_Model_Version                                                       GPT-4-turbo\n",
            "Active_Users                                                                500000\n",
            "New_Users                                                                    25000\n",
            "Churned_Users                                                                25000\n",
            "Daily_Churn_Rate                                                              0.05\n",
            "Retention_Rate                                                                0.95\n",
            "User_ID                                       c878a177-2da9-4224-8cf8-1d56a1c6a755\n",
            "Query_Type                                                                 General\n",
            "Input_Text                       Draft a professional email about personal finance\n",
            "Input_Text_Length                                                                7\n",
            "Response_Tokens                                                                280\n",
            "Topic_Category                                                Professional Writing\n",
            "User_Rating                                                                      4\n",
            "User_Experience_Score                                                         1.28\n",
            "Session_Duration_sec                                                            40\n",
            "Device_Type                                                                 Mobile\n",
            "Language                                                                        es\n",
            "Response_Accuracy                                                           0.7842\n",
            "Response_Speed_sec                                                             3.3\n",
            "Response_Time_Category                                                    Standard\n",
            "Correction_Needed                                                                0\n",
            "User_Return_Frequency                                                            6\n",
            "Customer_Support_Interactions                                                    2\n",
            "Region                                Antarctica (the territory South of 60 deg S)\n",
            "Name: 0, dtype: object\n"
          ]
        }
      ]
    },
    {
      "cell_type": "code",
      "source": [
        "#Series Object\n",
        "platform_series = df[\"AI_Platform\"]\n",
        "print(\"Series (AI_Platform):\\n\", platform_series.head())"
      ],
      "metadata": {
        "colab": {
          "base_uri": "https://localhost:8080/"
        },
        "id": "1ZYNFDqYFeMJ",
        "outputId": "46e5d5bd-f1dc-44cc-82b2-44a74b96e570"
      },
      "execution_count": 5,
      "outputs": [
        {
          "output_type": "stream",
          "name": "stdout",
          "text": [
            "Series (AI_Platform):\n",
            " 0     ChatGPT\n",
            "1     ChatGPT\n",
            "2     ChatGPT\n",
            "3     ChatGPT\n",
            "4    DeepSeek\n",
            "Name: AI_Platform, dtype: object\n"
          ]
        }
      ]
    },
    {
      "cell_type": "code",
      "source": [
        "#Indexing Series\n",
        "print(\"First platform:\", platform_series[0])\n",
        "print(\"First 5 platforms:\\n\", platform_series[:5])"
      ],
      "metadata": {
        "colab": {
          "base_uri": "https://localhost:8080/"
        },
        "id": "T0_IdlOHF0Z4",
        "outputId": "585fe327-315f-40d9-c036-9ce8c0e3f408"
      },
      "execution_count": 6,
      "outputs": [
        {
          "output_type": "stream",
          "name": "stdout",
          "text": [
            "First platform: ChatGPT\n",
            "First 5 platforms:\n",
            " 0     ChatGPT\n",
            "1     ChatGPT\n",
            "2     ChatGPT\n",
            "3     ChatGPT\n",
            "4    DeepSeek\n",
            "Name: AI_Platform, dtype: object\n"
          ]
        }
      ]
    },
    {
      "cell_type": "code",
      "source": [
        "#Selecting Multiple Columns\n",
        "df_subset = df[[\"AI_Platform\", \"User_Experience_Score\", \"Response_Accuracy\"]]\n",
        "print(\"Subset of columns:\\n\", df_subset.head())"
      ],
      "metadata": {
        "colab": {
          "base_uri": "https://localhost:8080/"
        },
        "id": "-quZZAjjGNLJ",
        "outputId": "fb373a6f-2b1d-4511-82da-69add8282e19"
      },
      "execution_count": 7,
      "outputs": [
        {
          "output_type": "stream",
          "name": "stdout",
          "text": [
            "Subset of columns:\n",
            "   AI_Platform  User_Experience_Score  Response_Accuracy\n",
            "0     ChatGPT                   1.28             0.7842\n",
            "1     ChatGPT                   1.28             0.8194\n",
            "2     ChatGPT                   0.88             0.8090\n",
            "3     ChatGPT                   1.68             0.8233\n",
            "4    DeepSeek                   2.04             0.9366\n"
          ]
        }
      ]
    },
    {
      "cell_type": "code",
      "source": [
        "#Filtering Rows\n",
        "perfect_users = df[df[\"User_Experience_Score\"] == 10]\n",
        "print(\"Users with score 10:\\n\", perfect_users)"
      ],
      "metadata": {
        "colab": {
          "base_uri": "https://localhost:8080/"
        },
        "id": "-WWdz1Y3GRgI",
        "outputId": "0382c1ae-8943-41df-89f5-ff6e726fe1e2"
      },
      "execution_count": 8,
      "outputs": [
        {
          "output_type": "stream",
          "name": "stdout",
          "text": [
            "Users with score 10:\n",
            " Empty DataFrame\n",
            "Columns: [Date, Month_Num, Weekday, AI_Platform, AI_Model_Version, Active_Users, New_Users, Churned_Users, Daily_Churn_Rate, Retention_Rate, User_ID, Query_Type, Input_Text, Input_Text_Length, Response_Tokens, Topic_Category, User_Rating, User_Experience_Score, Session_Duration_sec, Device_Type, Language, Response_Accuracy, Response_Speed_sec, Response_Time_Category, Correction_Needed, User_Return_Frequency, Customer_Support_Interactions, Region]\n",
            "Index: []\n",
            "\n",
            "[0 rows x 28 columns]\n"
          ]
        }
      ]
    },
    {
      "cell_type": "code",
      "source": [
        "#Universal Function (round)\n",
        "rounded_accuracy = df[\"Response_Accuracy\"].round(2)\n",
        "print(\"Rounded Response Accuracy:\\n\", rounded_accuracy.head())"
      ],
      "metadata": {
        "colab": {
          "base_uri": "https://localhost:8080/"
        },
        "id": "g_bovMckHBXN",
        "outputId": "40e25fb3-32a1-4140-a72c-3fb59f5502be"
      },
      "execution_count": 9,
      "outputs": [
        {
          "output_type": "stream",
          "name": "stdout",
          "text": [
            "Rounded Response Accuracy:\n",
            " 0    0.78\n",
            "1    0.82\n",
            "2    0.81\n",
            "3    0.82\n",
            "4    0.94\n",
            "Name: Response_Accuracy, dtype: float64\n"
          ]
        }
      ]
    },
    {
      "cell_type": "code",
      "source": [
        "#Index Alignment in Arithmetic\n",
        "combined_score = df[\"User_Experience_Score\"] + df[\"Response_Accuracy\"]\n",
        "print(\"Combined Score (Experience + Accuracy):\\n\", combined_score.head())"
      ],
      "metadata": {
        "colab": {
          "base_uri": "https://localhost:8080/"
        },
        "id": "JYLhrs9aHIIU",
        "outputId": "ffd4e627-81ab-4d38-f7e8-a18172f68542"
      },
      "execution_count": 10,
      "outputs": [
        {
          "output_type": "stream",
          "name": "stdout",
          "text": [
            "Combined Score (Experience + Accuracy):\n",
            " 0    2.0642\n",
            "1    2.0994\n",
            "2    1.6890\n",
            "3    2.5033\n",
            "4    2.9766\n",
            "dtype: float64\n"
          ]
        }
      ]
    },
    {
      "cell_type": "code",
      "source": [
        "#Add a New Column\n",
        "df[\"ExperiencePlusAccuracy\"] = combined_score\n",
        "print(\"New column 'ExperiencePlusAccuracy' added:\\n\", df[[\"ExperiencePlusAccuracy\"]].head())"
      ],
      "metadata": {
        "colab": {
          "base_uri": "https://localhost:8080/"
        },
        "id": "klYUUh73HOZr",
        "outputId": "ddf649ad-61b1-4132-cd70-86b557bb5985"
      },
      "execution_count": 11,
      "outputs": [
        {
          "output_type": "stream",
          "name": "stdout",
          "text": [
            "New column 'ExperiencePlusAccuracy' added:\n",
            "    ExperiencePlusAccuracy\n",
            "0                  2.0642\n",
            "1                  2.0994\n",
            "2                  1.6890\n",
            "3                  2.5033\n",
            "4                  2.9766\n"
          ]
        }
      ]
    },
    {
      "cell_type": "code",
      "source": [
        "#Drop Rows with Null Values\n",
        "df_clean = df.dropna()\n",
        "print(\"DataFrame after dropping nulls:\\n\", df_clean.head())"
      ],
      "metadata": {
        "colab": {
          "base_uri": "https://localhost:8080/"
        },
        "id": "FyDGa0uvHW5P",
        "outputId": "543ec17a-cbce-41d9-d4e1-3b3f85de6ad2"
      },
      "execution_count": 12,
      "outputs": [
        {
          "output_type": "stream",
          "name": "stdout",
          "text": [
            "DataFrame after dropping nulls:\n",
            "          Date  Month_Num   Weekday AI_Platform   AI_Model_Version  \\\n",
            "0  2024-09-21          9  Saturday     ChatGPT        GPT-4-turbo   \n",
            "1  2024-09-21          9  Saturday     ChatGPT        GPT-4-turbo   \n",
            "2  2024-09-21          9  Saturday     ChatGPT        GPT-4-turbo   \n",
            "3  2024-09-21          9  Saturday     ChatGPT        GPT-4-turbo   \n",
            "4  2024-05-16          5  Thursday    DeepSeek  DeepSeek-Chat 1.5   \n",
            "\n",
            "   Active_Users  New_Users  Churned_Users  Daily_Churn_Rate  Retention_Rate  \\\n",
            "0        500000      25000          25000              0.05            0.95   \n",
            "1        500000      25000          25000              0.05            0.95   \n",
            "2        500000      25000          25000              0.05            0.95   \n",
            "3        500000      25000          25000              0.05            0.95   \n",
            "4       1700000     170000          34000              0.02            0.95   \n",
            "\n",
            "   ...     Device_Type Language Response_Accuracy  Response_Speed_sec  \\\n",
            "0  ...          Mobile       es            0.7842                3.30   \n",
            "1  ...  Laptop/Desktop       zh            0.8194                3.28   \n",
            "2  ...          Mobile       en            0.8090                3.07   \n",
            "3  ...          Mobile       fr            0.8233                3.06   \n",
            "4  ...          Mobile       de            0.9366                1.48   \n",
            "\n",
            "   Response_Time_Category Correction_Needed  User_Return_Frequency  \\\n",
            "0                Standard                 0                      6   \n",
            "1                Standard                 1                      2   \n",
            "2                Standard                 0                      2   \n",
            "3                Standard                 0                      9   \n",
            "4                    Fast                 0                      9   \n",
            "\n",
            "   Customer_Support_Interactions  \\\n",
            "0                              2   \n",
            "1                              2   \n",
            "2                              0   \n",
            "3                              0   \n",
            "4                              3   \n",
            "\n",
            "                                         Region ExperiencePlusAccuracy  \n",
            "0  Antarctica (the territory South of 60 deg S)                 2.0642  \n",
            "1                                       Ukraine                 2.0994  \n",
            "2                                       Grenada                 1.6890  \n",
            "3                                        Guyana                 2.5033  \n",
            "4                                         India                 2.9766  \n",
            "\n",
            "[5 rows x 29 columns]\n"
          ]
        }
      ]
    },
    {
      "cell_type": "code",
      "source": [
        "#Handling Missing Data (Check Nulls)\n",
        "print(\"Null values in each column:\\n\", df.isnull().sum())"
      ],
      "metadata": {
        "colab": {
          "base_uri": "https://localhost:8080/"
        },
        "id": "TKuU6rfMHbN6",
        "outputId": "f52d1961-27be-4153-d4fd-b625a1d9645a"
      },
      "execution_count": 13,
      "outputs": [
        {
          "output_type": "stream",
          "name": "stdout",
          "text": [
            "Null values in each column:\n",
            " Date                               0\n",
            "Month_Num                          0\n",
            "Weekday                            0\n",
            "AI_Platform                        0\n",
            "AI_Model_Version                   0\n",
            "Active_Users                       0\n",
            "New_Users                          0\n",
            "Churned_Users                      0\n",
            "Daily_Churn_Rate                   0\n",
            "Retention_Rate                     0\n",
            "User_ID                            0\n",
            "Query_Type                         0\n",
            "Input_Text                         0\n",
            "Input_Text_Length                  0\n",
            "Response_Tokens                    0\n",
            "Topic_Category                     0\n",
            "User_Rating                        0\n",
            "User_Experience_Score              0\n",
            "Session_Duration_sec               0\n",
            "Device_Type                        0\n",
            "Language                           0\n",
            "Response_Accuracy                379\n",
            "Response_Speed_sec                 0\n",
            "Response_Time_Category             0\n",
            "Correction_Needed                  0\n",
            "User_Return_Frequency              0\n",
            "Customer_Support_Interactions      0\n",
            "Region                             0\n",
            "ExperiencePlusAccuracy           379\n",
            "dtype: int64\n"
          ]
        }
      ]
    },
    {
      "cell_type": "code",
      "source": [
        "#Fill Missing Values\n",
        "df_filled = df.fillna(0)\n",
        "print(\"DataFrame after filling nulls with 0:\\n\", df_filled.head())"
      ],
      "metadata": {
        "colab": {
          "base_uri": "https://localhost:8080/"
        },
        "id": "zbg-BEnlHmNj",
        "outputId": "62f584a9-9c2b-456c-9f58-5253ec55d9e8"
      },
      "execution_count": 14,
      "outputs": [
        {
          "output_type": "stream",
          "name": "stdout",
          "text": [
            "DataFrame after filling nulls with 0:\n",
            "          Date  Month_Num   Weekday AI_Platform   AI_Model_Version  \\\n",
            "0  2024-09-21          9  Saturday     ChatGPT        GPT-4-turbo   \n",
            "1  2024-09-21          9  Saturday     ChatGPT        GPT-4-turbo   \n",
            "2  2024-09-21          9  Saturday     ChatGPT        GPT-4-turbo   \n",
            "3  2024-09-21          9  Saturday     ChatGPT        GPT-4-turbo   \n",
            "4  2024-05-16          5  Thursday    DeepSeek  DeepSeek-Chat 1.5   \n",
            "\n",
            "   Active_Users  New_Users  Churned_Users  Daily_Churn_Rate  Retention_Rate  \\\n",
            "0        500000      25000          25000              0.05            0.95   \n",
            "1        500000      25000          25000              0.05            0.95   \n",
            "2        500000      25000          25000              0.05            0.95   \n",
            "3        500000      25000          25000              0.05            0.95   \n",
            "4       1700000     170000          34000              0.02            0.95   \n",
            "\n",
            "   ...     Device_Type Language Response_Accuracy  Response_Speed_sec  \\\n",
            "0  ...          Mobile       es            0.7842                3.30   \n",
            "1  ...  Laptop/Desktop       zh            0.8194                3.28   \n",
            "2  ...          Mobile       en            0.8090                3.07   \n",
            "3  ...          Mobile       fr            0.8233                3.06   \n",
            "4  ...          Mobile       de            0.9366                1.48   \n",
            "\n",
            "   Response_Time_Category Correction_Needed  User_Return_Frequency  \\\n",
            "0                Standard                 0                      6   \n",
            "1                Standard                 1                      2   \n",
            "2                Standard                 0                      2   \n",
            "3                Standard                 0                      9   \n",
            "4                    Fast                 0                      9   \n",
            "\n",
            "   Customer_Support_Interactions  \\\n",
            "0                              2   \n",
            "1                              2   \n",
            "2                              0   \n",
            "3                              0   \n",
            "4                              3   \n",
            "\n",
            "                                         Region ExperiencePlusAccuracy  \n",
            "0  Antarctica (the territory South of 60 deg S)                 2.0642  \n",
            "1                                       Ukraine                 2.0994  \n",
            "2                                       Grenada                 1.6890  \n",
            "3                                        Guyana                 2.5033  \n",
            "4                                         India                 2.9766  \n",
            "\n",
            "[5 rows x 29 columns]\n"
          ]
        }
      ]
    },
    {
      "cell_type": "code",
      "source": [
        "#Replace Values\n",
        "df[\"Language\"] = df[\"Language\"].replace(\"en\", \"English\")\n",
        "print(\"Updated Language column:\\n\", df[\"Language\"].head())"
      ],
      "metadata": {
        "colab": {
          "base_uri": "https://localhost:8080/"
        },
        "id": "m8dKGJ0MHtV_",
        "outputId": "276b26b4-f3fb-4907-856a-2ea934fc94fc"
      },
      "execution_count": 15,
      "outputs": [
        {
          "output_type": "stream",
          "name": "stdout",
          "text": [
            "Updated Language column:\n",
            " 0         es\n",
            "1         zh\n",
            "2    English\n",
            "3         fr\n",
            "4         de\n",
            "Name: Language, dtype: object\n"
          ]
        }
      ]
    },
    {
      "cell_type": "code",
      "source": [
        "#GroupBy + Aggregation\n",
        "avg_score_by_platform = df.groupby(\"AI_Platform\")[\"User_Experience_Score\"].mean()\n",
        "print(\"Average experience score by platform:\\n\", avg_score_by_platform)"
      ],
      "metadata": {
        "colab": {
          "base_uri": "https://localhost:8080/"
        },
        "id": "FHM-VMS3Hz6L",
        "outputId": "eba3dd7f-4c7b-4524-87f9-e8d7fbdb1b7c"
      },
      "execution_count": 17,
      "outputs": [
        {
          "output_type": "stream",
          "name": "stdout",
          "text": [
            "Average experience score by platform:\n",
            " AI_Platform\n",
            "ChatGPT     1.230971\n",
            "DeepSeek    2.034657\n",
            "Name: User_Experience_Score, dtype: float64\n"
          ]
        }
      ]
    },
    {
      "cell_type": "code",
      "source": [
        " #Sort Values\n",
        " sorted_df = df.sort_values(\"User_Experience_Score\", ascending=False)\n",
        "print(\"Data sorted by User_Experience_Score:\\n\", sorted_df[[\"AI_Platform\", \"User_Experience_Score\"]].head())"
      ],
      "metadata": {
        "colab": {
          "base_uri": "https://localhost:8080/"
        },
        "id": "lkpWoNPyH6Nk",
        "outputId": "cef633ac-1ca2-40e2-970a-a3dcd6e6195e"
      },
      "execution_count": 16,
      "outputs": [
        {
          "output_type": "stream",
          "name": "stdout",
          "text": [
            "Data sorted by User_Experience_Score:\n",
            "      AI_Platform  User_Experience_Score\n",
            "5212    DeepSeek                   2.28\n",
            "5211    DeepSeek                   2.28\n",
            "5213    DeepSeek                   2.28\n",
            "1530    DeepSeek                   2.27\n",
            "7688    DeepSeek                   2.27\n"
          ]
        }
      ]
    },
    {
      "cell_type": "code",
      "source": [
        "#Value Counts\n",
        "platform_counts = df[\"AI_Platform\"].value_counts()\n",
        "print(\"Count of each AI Platform:\\n\", platform_counts)"
      ],
      "metadata": {
        "colab": {
          "base_uri": "https://localhost:8080/"
        },
        "id": "b3vOqOikIAQa",
        "outputId": "723d2c45-53e9-4d73-fac2-1943b62f8021"
      },
      "execution_count": 18,
      "outputs": [
        {
          "output_type": "stream",
          "name": "stdout",
          "text": [
            "Count of each AI Platform:\n",
            " AI_Platform\n",
            "ChatGPT     5076\n",
            "DeepSeek    4924\n",
            "Name: count, dtype: int64\n"
          ]
        }
      ]
    },
    {
      "cell_type": "code",
      "source": [
        "#Unique Values\n",
        "languages = df[\"Language\"].unique()\n",
        "print(\"Unique Languages:\\n\", languages)"
      ],
      "metadata": {
        "colab": {
          "base_uri": "https://localhost:8080/"
        },
        "id": "ClLE6vRCIKXQ",
        "outputId": "ba218302-fb37-4875-856a-0289b3692e2b"
      },
      "execution_count": 19,
      "outputs": [
        {
          "output_type": "stream",
          "name": "stdout",
          "text": [
            "Unique Languages:\n",
            " ['es' 'zh' 'English' 'fr' 'de']\n"
          ]
        }
      ]
    },
    {
      "cell_type": "code",
      "source": [
        "#Hierarchical Indexing\n",
        "df_hier = df.set_index([\"AI_Platform\", \"AI_Model_Version\"])\n",
        "print(\"Hierarchical Indexing:\\n\", df_hier.head())"
      ],
      "metadata": {
        "colab": {
          "base_uri": "https://localhost:8080/"
        },
        "id": "rCf6GPGFIOEm",
        "outputId": "e12ed315-eef5-4dc2-e6a9-d3fc3000d518"
      },
      "execution_count": 20,
      "outputs": [
        {
          "output_type": "stream",
          "name": "stdout",
          "text": [
            "Hierarchical Indexing:\n",
            "                                      Date  Month_Num   Weekday  Active_Users  \\\n",
            "AI_Platform AI_Model_Version                                                   \n",
            "ChatGPT     GPT-4-turbo        2024-09-21          9  Saturday        500000   \n",
            "            GPT-4-turbo        2024-09-21          9  Saturday        500000   \n",
            "            GPT-4-turbo        2024-09-21          9  Saturday        500000   \n",
            "            GPT-4-turbo        2024-09-21          9  Saturday        500000   \n",
            "DeepSeek    DeepSeek-Chat 1.5  2024-05-16          5  Thursday       1700000   \n",
            "\n",
            "                               New_Users  Churned_Users  Daily_Churn_Rate  \\\n",
            "AI_Platform AI_Model_Version                                                \n",
            "ChatGPT     GPT-4-turbo            25000          25000              0.05   \n",
            "            GPT-4-turbo            25000          25000              0.05   \n",
            "            GPT-4-turbo            25000          25000              0.05   \n",
            "            GPT-4-turbo            25000          25000              0.05   \n",
            "DeepSeek    DeepSeek-Chat 1.5     170000          34000              0.02   \n",
            "\n",
            "                               Retention_Rate  \\\n",
            "AI_Platform AI_Model_Version                    \n",
            "ChatGPT     GPT-4-turbo                  0.95   \n",
            "            GPT-4-turbo                  0.95   \n",
            "            GPT-4-turbo                  0.95   \n",
            "            GPT-4-turbo                  0.95   \n",
            "DeepSeek    DeepSeek-Chat 1.5            0.95   \n",
            "\n",
            "                                                            User_ID  \\\n",
            "AI_Platform AI_Model_Version                                          \n",
            "ChatGPT     GPT-4-turbo        c878a177-2da9-4224-8cf8-1d56a1c6a755   \n",
            "            GPT-4-turbo        7096d0f1-d0dc-4333-a5d0-de9dfd1b99fa   \n",
            "            GPT-4-turbo        e690c254-582f-49c1-89c3-0b4dd8ee59be   \n",
            "            GPT-4-turbo        0b6a010d-9d03-44c4-bf7f-7f8d2cc461e2   \n",
            "DeepSeek    DeepSeek-Chat 1.5  ffa90616-1fa9-48ff-842d-e84e193c64f4   \n",
            "\n",
            "                              Query_Type  ...     Device_Type  Language  \\\n",
            "AI_Platform AI_Model_Version              ...                             \n",
            "ChatGPT     GPT-4-turbo          General  ...          Mobile        es   \n",
            "            GPT-4-turbo          General  ...  Laptop/Desktop        zh   \n",
            "            GPT-4-turbo          General  ...          Mobile   English   \n",
            "            GPT-4-turbo          General  ...          Mobile        fr   \n",
            "DeepSeek    DeepSeek-Chat 1.5  Technical  ...          Mobile        de   \n",
            "\n",
            "                               Response_Accuracy Response_Speed_sec  \\\n",
            "AI_Platform AI_Model_Version                                          \n",
            "ChatGPT     GPT-4-turbo                   0.7842               3.30   \n",
            "            GPT-4-turbo                   0.8194               3.28   \n",
            "            GPT-4-turbo                   0.8090               3.07   \n",
            "            GPT-4-turbo                   0.8233               3.06   \n",
            "DeepSeek    DeepSeek-Chat 1.5             0.9366               1.48   \n",
            "\n",
            "                               Response_Time_Category  Correction_Needed  \\\n",
            "AI_Platform AI_Model_Version                                               \n",
            "ChatGPT     GPT-4-turbo                      Standard                  0   \n",
            "            GPT-4-turbo                      Standard                  1   \n",
            "            GPT-4-turbo                      Standard                  0   \n",
            "            GPT-4-turbo                      Standard                  0   \n",
            "DeepSeek    DeepSeek-Chat 1.5                    Fast                  0   \n",
            "\n",
            "                               User_Return_Frequency  \\\n",
            "AI_Platform AI_Model_Version                           \n",
            "ChatGPT     GPT-4-turbo                            6   \n",
            "            GPT-4-turbo                            2   \n",
            "            GPT-4-turbo                            2   \n",
            "            GPT-4-turbo                            9   \n",
            "DeepSeek    DeepSeek-Chat 1.5                      9   \n",
            "\n",
            "                              Customer_Support_Interactions  \\\n",
            "AI_Platform AI_Model_Version                                  \n",
            "ChatGPT     GPT-4-turbo                                   2   \n",
            "            GPT-4-turbo                                   2   \n",
            "            GPT-4-turbo                                   0   \n",
            "            GPT-4-turbo                                   0   \n",
            "DeepSeek    DeepSeek-Chat 1.5                             3   \n",
            "\n",
            "                                                                     Region  \\\n",
            "AI_Platform AI_Model_Version                                                  \n",
            "ChatGPT     GPT-4-turbo        Antarctica (the territory South of 60 deg S)   \n",
            "            GPT-4-turbo                                             Ukraine   \n",
            "            GPT-4-turbo                                             Grenada   \n",
            "            GPT-4-turbo                                              Guyana   \n",
            "DeepSeek    DeepSeek-Chat 1.5                                         India   \n",
            "\n",
            "                               ExperiencePlusAccuracy  \n",
            "AI_Platform AI_Model_Version                           \n",
            "ChatGPT     GPT-4-turbo                        2.0642  \n",
            "            GPT-4-turbo                        2.0994  \n",
            "            GPT-4-turbo                        1.6890  \n",
            "            GPT-4-turbo                        2.5033  \n",
            "DeepSeek    DeepSeek-Chat 1.5                  2.9766  \n",
            "\n",
            "[5 rows x 27 columns]\n"
          ]
        }
      ]
    },
    {
      "cell_type": "code",
      "source": [
        "#Reset Index\n",
        "df_reset = df_hier.reset_index()\n",
        "print(\"Index reset:\\n\", df_reset.head())"
      ],
      "metadata": {
        "colab": {
          "base_uri": "https://localhost:8080/"
        },
        "id": "cpyjvA8zIVdq",
        "outputId": "a8ce5dd7-010a-4791-e1b5-801d91931787"
      },
      "execution_count": null,
      "outputs": [
        {
          "output_type": "stream",
          "name": "stdout",
          "text": [
            "Index reset:\n",
            "   AI_Platform   AI_Model_Version        Date  Month_Num   Weekday  \\\n",
            "0     ChatGPT        GPT-4-turbo  2024-09-21          9  Saturday   \n",
            "1     ChatGPT        GPT-4-turbo  2024-09-21          9  Saturday   \n",
            "2     ChatGPT        GPT-4-turbo  2024-09-21          9  Saturday   \n",
            "3     ChatGPT        GPT-4-turbo  2024-09-21          9  Saturday   \n",
            "4    DeepSeek  DeepSeek-Chat 1.5  2024-05-16          5  Thursday   \n",
            "\n",
            "   Active_Users  New_Users  Churned_Users  Daily_Churn_Rate  Retention_Rate  \\\n",
            "0        500000      25000          25000              0.05            0.95   \n",
            "1        500000      25000          25000              0.05            0.95   \n",
            "2        500000      25000          25000              0.05            0.95   \n",
            "3        500000      25000          25000              0.05            0.95   \n",
            "4       1700000     170000          34000              0.02            0.95   \n",
            "\n",
            "   ...     Device_Type Language Response_Accuracy  Response_Speed_sec  \\\n",
            "0  ...          Mobile       es            0.7842                3.30   \n",
            "1  ...  Laptop/Desktop       zh            0.8194                3.28   \n",
            "2  ...          Mobile  English            0.8090                3.07   \n",
            "3  ...          Mobile       fr            0.8233                3.06   \n",
            "4  ...          Mobile       de            0.9366                1.48   \n",
            "\n",
            "   Response_Time_Category Correction_Needed  User_Return_Frequency  \\\n",
            "0                Standard                 0                      6   \n",
            "1                Standard                 1                      2   \n",
            "2                Standard                 0                      2   \n",
            "3                Standard                 0                      9   \n",
            "4                    Fast                 0                      9   \n",
            "\n",
            "   Customer_Support_Interactions  \\\n",
            "0                              2   \n",
            "1                              2   \n",
            "2                              0   \n",
            "3                              0   \n",
            "4                              3   \n",
            "\n",
            "                                         Region ExperiencePlusAccuracy  \n",
            "0  Antarctica (the territory South of 60 deg S)                 2.0642  \n",
            "1                                       Ukraine                 2.0994  \n",
            "2                                       Grenada                 1.6890  \n",
            "3                                        Guyana                 2.5033  \n",
            "4                                         India                 2.9766  \n",
            "\n",
            "[5 rows x 29 columns]\n"
          ]
        }
      ]
    },
    {
      "cell_type": "code",
      "source": [
        "#Apply Custom Function\n",
        "df[\"Session_Category\"] = df[\"Session_Duration_sec\"].apply(lambda x: \"Long\" if x > 30 else \"Short\")\n",
        "print(\"New Session_Category column:\\n\", df[[\"Session_Duration_sec\", \"Session_Category\"]].head())"
      ],
      "metadata": {
        "colab": {
          "base_uri": "https://localhost:8080/"
        },
        "id": "C_WR_rTRIcIZ",
        "outputId": "5e1c71c9-754a-44d7-c8ba-14d0d74c3443"
      },
      "execution_count": 21,
      "outputs": [
        {
          "output_type": "stream",
          "name": "stdout",
          "text": [
            "New Session_Category column:\n",
            "    Session_Duration_sec Session_Category\n",
            "0                    40             Long\n",
            "1                    24            Short\n",
            "2                    34             Long\n",
            "3                    18            Short\n",
            "4                    10            Short\n"
          ]
        }
      ]
    },
    {
      "cell_type": "code",
      "source": [
        "#merge()\n",
        "feedback_data = {\n",
        "    \"User_ID\": df[\"User_ID\"].head(10),  # take first 10 user IDs\n",
        "    \"User_Feedback\": [\n",
        "        \"Excellent\", \"Good\", \"Average\", \"Poor\", \"Excellent\",\n",
        "        \"Good\", \"Poor\", \"Average\", \"Excellent\", \"Good\"\n",
        "    ]\n",
        "}\n",
        "\n",
        "feedback_df = pd.DataFrame(feedback_data)\n",
        "\n",
        "# Merge the original DataFrame with feedback_df on User_ID\n",
        "merged_df = pd.merge(df, feedback_df, on=\"User_ID\", how=\"left\")\n",
        "\n",
        "# Print merged result (selected columns)\n",
        "print(merged_df[[\"User_ID\", \"AI_Platform\", \"User_Experience_Score\", \"User_Feedback\"]].head(10))\n"
      ],
      "metadata": {
        "colab": {
          "base_uri": "https://localhost:8080/"
        },
        "id": "50IOLvJSI194",
        "outputId": "34660ce5-fd6f-4521-dbdb-4ba4a198790b"
      },
      "execution_count": 22,
      "outputs": [
        {
          "output_type": "stream",
          "name": "stdout",
          "text": [
            "                                User_ID AI_Platform  User_Experience_Score  \\\n",
            "0  c878a177-2da9-4224-8cf8-1d56a1c6a755     ChatGPT                   1.28   \n",
            "1  7096d0f1-d0dc-4333-a5d0-de9dfd1b99fa     ChatGPT                   1.28   \n",
            "2  e690c254-582f-49c1-89c3-0b4dd8ee59be     ChatGPT                   0.88   \n",
            "3  0b6a010d-9d03-44c4-bf7f-7f8d2cc461e2     ChatGPT                   1.68   \n",
            "4  ffa90616-1fa9-48ff-842d-e84e193c64f4    DeepSeek                   2.04   \n",
            "5  eabd6678-8383-40e9-98d8-0d4814d6daf9    DeepSeek                   2.04   \n",
            "6  914e7cef-0512-4a9b-a144-b4da35d11f4c    DeepSeek                   2.04   \n",
            "7  57a6cc5b-8884-4553-bdcf-e4579f92581b    DeepSeek                   2.04   \n",
            "8  c6bb6063-5271-43d3-a16e-b4ca2149f246    DeepSeek                   2.04   \n",
            "9  25f9fff3-0edf-4144-a435-08f1a8f50799    DeepSeek                   1.64   \n",
            "\n",
            "  User_Feedback  \n",
            "0     Excellent  \n",
            "1          Good  \n",
            "2       Average  \n",
            "3          Poor  \n",
            "4     Excellent  \n",
            "5          Good  \n",
            "6          Poor  \n",
            "7       Average  \n",
            "8     Excellent  \n",
            "9          Good  \n"
          ]
        }
      ]
    }
  ]
}